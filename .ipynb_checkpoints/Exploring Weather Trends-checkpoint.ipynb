{
 "cells": [
  {
   "cell_type": "markdown",
   "metadata": {},
   "source": [
    "# Exploring Weather Trends with SQL and Python\n",
    "\n",
    "### Summary\n",
    "In this project, you will analyze local and global temperature data and compare the temperature trends where you live to overall global temperature trends.\n",
    "\n",
    "### Instructions\n",
    "Your goal will be to create a visualization and prepare a write up describing the similarities and differences between global temperature trends and temperature trends in the closest big city to where you live. To do this, you’ll follow the steps below:\n",
    "\n",
    "- **Extract the data** from the database. There's a workspace in the next section that is connected to a database. You’ll need to export the temperature data for the world as well as for the closest big city to where you live. You can find a list of cities and countries in the city_list table. To interact with the database, you'll need to write a SQL query.\n",
    "    - Write a SQL query to extract the city level data. Export to CSV.\n",
    "    - Write a SQL query to extract the global data. Export to CSV.\n",
    "    \n",
    "- **Open up the CSV** in whatever tool you feel most comfortable using. We suggest using Excel or Google sheets, but you are welcome to use another tool, such as Python or R.\n",
    "\n",
    "- **Create a line chart** that compares your city’s temperatures with the global temperatures. Make sure to plot the moving average rather than the yearly averages in order to smooth out the lines, making trends more observable (the last concept in the previous lesson goes over how to do this in a spreadsheet).\n",
    "\n",
    "- **Make observations** about the similarities and differences between the world averages and your city’s averages, as well as overall trends. Here are some questions to get you started.\n",
    "    - Is your city hotter or cooler on average compared to the global average? Has the difference been consistent over time?\n",
    "    - “How do the changes in your city’s temperatures over time compare to the changes in the global average?”\n",
    "    - What does the overall trend look like? Is the world getting hotter or cooler? Has the trend been consistent over the last few hundred years?\n",
    "\n",
    "### Submission\n",
    "Your submission should be a PDF that includes:\n",
    "\n",
    "- An **outline** of steps taken to prepare the data to be visualized in the chart, such as:\n",
    "    - What tools did you use for each step? (Python, SQL, Excel, etc)\n",
    "    - How did you calculate the moving average?\n",
    "    - What were your key considerations when deciding how to visualize the trends?\n",
    "- **Line chart** with local and global temperature trends\n",
    "- At least **four observations** about the similarities and/or differences in the trends"
   ]
  },
  {
   "cell_type": "markdown",
   "metadata": {},
   "source": [
    "## 1. Extract the Data from the Database\n",
    "\n",
    "City chosen: Philadelphia, PA, USA\n",
    "\n",
    "**Query**\n",
    "```\n",
    "SELECT * FROM city_data WHERE city = 'Philadelphia'\n",
    "```"
   ]
  },
  {
   "cell_type": "markdown",
   "metadata": {},
   "source": [
    "# Rubric\n",
    "\n",
    "\n",
    "| Criteria                                                             | Meets Specifications                                                                                                              |\n",
    "|:---------------------------------------------------------------------:|:----------------------------------------------------------------------------------------------------------------------------------|\n",
    "| Student is able to extract data from a database using SQL.           | - The SQL query used to extract the data is included.<br>   - The query runs without error and pulls the intended data.               |\n",
    "| Student is able to manipulate data in a spreadsheet or similar tool. | Moving averages are calculated to be used in the line chart.                                                                      |\n",
    "| Student is able to create a clear data visualization.                | - A line chart is included in the submission.<br>- The chart and its axes have titles, and there's a clear legend (if applicable). |\n",
    "| Student is able to interpret a data visualization.                   | - The student includes four observations about their provided data visualization.<br>- The four observations are accurate.         |\n",
    "\n",
    "**Suggestions to make your project stand out**: \n",
    "\n",
    "Think about other ways to compare and find insights from this data beyond interpreting the chart. Here are a few ideas:\n",
    "- What's the correlation coefficient?\n",
    "- Can you estimate the average temperature in your city based on the average global temperature?\n",
    "- Multiple cities - Add your favorite cities from around the globe to your visualization. What do you learn about them?"
   ]
  }
 ],
 "metadata": {
  "kernelspec": {
   "display_name": "Python 3",
   "language": "python",
   "name": "python3"
  },
  "language_info": {
   "codemirror_mode": {
    "name": "ipython",
    "version": 3
   },
   "file_extension": ".py",
   "mimetype": "text/x-python",
   "name": "python",
   "nbconvert_exporter": "python",
   "pygments_lexer": "ipython3",
   "version": "3.7.0"
  }
 },
 "nbformat": 4,
 "nbformat_minor": 2
}
