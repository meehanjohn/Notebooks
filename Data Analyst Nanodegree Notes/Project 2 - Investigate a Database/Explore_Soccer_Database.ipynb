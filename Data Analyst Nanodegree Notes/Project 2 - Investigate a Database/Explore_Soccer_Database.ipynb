{
 "cells": [
  {
   "cell_type": "markdown",
   "metadata": {},
   "source": [
    "# Project: Exploring a Soccer Match Database\n",
    "\n",
    "## Table of Contents\n",
    "<ul>\n",
    "<li><a href=\"#intro\">Introduction</a></li>\n",
    "<li><a href=\"#wrangling\">Data Wrangling</a></li>\n",
    "<li><a href=\"#eda\">Exploratory Data Analysis</a></li>\n",
    "<li><a href=\"#conclusions\">Conclusions</a></li>\n",
    "</ul>"
   ]
  },
  {
   "cell_type": "markdown",
   "metadata": {},
   "source": [
    "<a id='intro'></a>\n",
    "## Introduction\n",
    "\n",
    "I have chosen to analyze the [European Soccer Database](https://www.kaggle.com/hugomathien/soccer). The database includes approximately 26,000 records of soccer matches, including team layout and game outcome. There is also data regarding player and team attributes (taken from the FIFA video games), and values for betting odds on each game across several online gambling platforms.\n",
    "\n",
    "My focus will be on the players making up each team, team formations, and their respective impacts on team performance. Through this project, I will attempt to draw conclusions about factors influencing team performance based on the available data.\n",
    "\n",
    "I chose this database and to focus on performance because of the connection with my work background. I am interested in improving the performance of a manufacturing organization which produces only custom made-to-order products. I would like to draw a parallel between analyzing team sport performance and team business performance."
   ]
  },
  {
   "cell_type": "markdown",
   "metadata": {},
   "source": [
    "### Importing\n",
    "\n",
    "First I import the packages relevant for this project:"
   ]
  },
  {
   "cell_type": "code",
   "execution_count": 57,
   "metadata": {},
   "outputs": [],
   "source": [
    "import sqlite3                      # to read the raw database file in .sqlite format\n",
    "import pandas as pd                 # for creating and modifying dataframes\n",
    "import matplotlib.pyplot as plt     # for data visualization\n",
    "import seaborn as sb                # to clean up visualizations\n",
    "import os                           # to locate files within the directory\n",
    "import numpy as np                  #\n",
    "\n",
    "# visualizations will render in-browser\n",
    "%matplotlib inline                  "
   ]
  },
  {
   "cell_type": "markdown",
   "metadata": {},
   "source": [
    "<a id='wrangling'></a>\n",
    "## Data Wrangling\n",
    "\n",
    "The file comes in .sqlite format, so it must be unpacked and imported into dataframes to be manipulated. Below, I will check out what data is included with each table and begin to shape the data so that it is useful for my analysis.\n",
    "\n",
    "### General Properties"
   ]
  },
  {
   "cell_type": "code",
   "execution_count": 2,
   "metadata": {},
   "outputs": [
    {
     "data": {
      "text/html": [
       "<div>\n",
       "<style scoped>\n",
       "    .dataframe tbody tr th:only-of-type {\n",
       "        vertical-align: middle;\n",
       "    }\n",
       "\n",
       "    .dataframe tbody tr th {\n",
       "        vertical-align: top;\n",
       "    }\n",
       "\n",
       "    .dataframe thead th {\n",
       "        text-align: right;\n",
       "    }\n",
       "</style>\n",
       "<table border=\"1\" class=\"dataframe\">\n",
       "  <thead>\n",
       "    <tr style=\"text-align: right;\">\n",
       "      <th></th>\n",
       "      <th>type</th>\n",
       "      <th>name</th>\n",
       "      <th>tbl_name</th>\n",
       "      <th>rootpage</th>\n",
       "      <th>sql</th>\n",
       "    </tr>\n",
       "  </thead>\n",
       "  <tbody>\n",
       "    <tr>\n",
       "      <th>0</th>\n",
       "      <td>table</td>\n",
       "      <td>sqlite_sequence</td>\n",
       "      <td>sqlite_sequence</td>\n",
       "      <td>4</td>\n",
       "      <td>CREATE TABLE sqlite_sequence(name,seq)</td>\n",
       "    </tr>\n",
       "    <tr>\n",
       "      <th>1</th>\n",
       "      <td>table</td>\n",
       "      <td>Player_Attributes</td>\n",
       "      <td>Player_Attributes</td>\n",
       "      <td>11</td>\n",
       "      <td>CREATE TABLE \"Player_Attributes\" (\\n\\t`id`\\tIN...</td>\n",
       "    </tr>\n",
       "    <tr>\n",
       "      <th>2</th>\n",
       "      <td>table</td>\n",
       "      <td>Player</td>\n",
       "      <td>Player</td>\n",
       "      <td>14</td>\n",
       "      <td>CREATE TABLE `Player` (\\n\\t`id`\\tINTEGER PRIMA...</td>\n",
       "    </tr>\n",
       "    <tr>\n",
       "      <th>3</th>\n",
       "      <td>table</td>\n",
       "      <td>Match</td>\n",
       "      <td>Match</td>\n",
       "      <td>18</td>\n",
       "      <td>CREATE TABLE `Match` (\\n\\t`id`\\tINTEGER PRIMAR...</td>\n",
       "    </tr>\n",
       "    <tr>\n",
       "      <th>4</th>\n",
       "      <td>table</td>\n",
       "      <td>League</td>\n",
       "      <td>League</td>\n",
       "      <td>24</td>\n",
       "      <td>CREATE TABLE `League` (\\n\\t`id`\\tINTEGER PRIMA...</td>\n",
       "    </tr>\n",
       "    <tr>\n",
       "      <th>5</th>\n",
       "      <td>table</td>\n",
       "      <td>Country</td>\n",
       "      <td>Country</td>\n",
       "      <td>26</td>\n",
       "      <td>CREATE TABLE `Country` (\\n\\t`id`\\tINTEGER PRIM...</td>\n",
       "    </tr>\n",
       "    <tr>\n",
       "      <th>6</th>\n",
       "      <td>table</td>\n",
       "      <td>Team</td>\n",
       "      <td>Team</td>\n",
       "      <td>29</td>\n",
       "      <td>CREATE TABLE \"Team\" (\\n\\t`id`\\tINTEGER PRIMARY...</td>\n",
       "    </tr>\n",
       "    <tr>\n",
       "      <th>7</th>\n",
       "      <td>table</td>\n",
       "      <td>Team_Attributes</td>\n",
       "      <td>Team_Attributes</td>\n",
       "      <td>2</td>\n",
       "      <td>CREATE TABLE `Team_Attributes` (\\n\\t`id`\\tINTE...</td>\n",
       "    </tr>\n",
       "  </tbody>\n",
       "</table>\n",
       "</div>"
      ],
      "text/plain": [
       "    type               name           tbl_name  rootpage  \\\n",
       "0  table    sqlite_sequence    sqlite_sequence         4   \n",
       "1  table  Player_Attributes  Player_Attributes        11   \n",
       "2  table             Player             Player        14   \n",
       "3  table              Match              Match        18   \n",
       "4  table             League             League        24   \n",
       "5  table            Country            Country        26   \n",
       "6  table               Team               Team        29   \n",
       "7  table    Team_Attributes    Team_Attributes         2   \n",
       "\n",
       "                                                 sql  \n",
       "0             CREATE TABLE sqlite_sequence(name,seq)  \n",
       "1  CREATE TABLE \"Player_Attributes\" (\\n\\t`id`\\tIN...  \n",
       "2  CREATE TABLE `Player` (\\n\\t`id`\\tINTEGER PRIMA...  \n",
       "3  CREATE TABLE `Match` (\\n\\t`id`\\tINTEGER PRIMAR...  \n",
       "4  CREATE TABLE `League` (\\n\\t`id`\\tINTEGER PRIMA...  \n",
       "5  CREATE TABLE `Country` (\\n\\t`id`\\tINTEGER PRIM...  \n",
       "6  CREATE TABLE \"Team\" (\\n\\t`id`\\tINTEGER PRIMARY...  \n",
       "7  CREATE TABLE `Team_Attributes` (\\n\\t`id`\\tINTE...  "
      ]
     },
     "execution_count": 2,
     "metadata": {},
     "output_type": "execute_result"
    }
   ],
   "source": [
    "path = os.getcwd()                     # ensures that the full path is being used\n",
    "database = path + '\\\\database.sqlite'  # even though the file should be in the same folder\n",
    "\n",
    "con = sqlite3.connect(database)        # establish a connection with the database\n",
    "tables = pd.read_sql(                  # write a query to see all tables\n",
    "    \"\"\"\n",
    "    SELECT * FROM sqlite_master\n",
    "    WHERE type='table';\n",
    "    \"\"\",con=con)\n",
    "tables"
   ]
  },
  {
   "cell_type": "markdown",
   "metadata": {},
   "source": [
    "### Tables\n",
    "I know from reading the documentation provided with the database that the 2 `_Attributes` tables are based on data from the FIFA video games. I will not need them to support my analysis, so they will not be brought into dataframes.\n",
    "\n",
    "The "
   ]
  },
  {
   "cell_type": "code",
   "execution_count": 3,
   "metadata": {},
   "outputs": [
    {
     "name": "stdout",
     "output_type": "stream",
     "text": [
      "<class 'pandas.core.frame.DataFrame'>\n",
      "Int64Index: 11060 entries, 505942 to 39902\n",
      "Data columns (total 4 columns):\n",
      "player_name    11060 non-null object\n",
      "birthday       11060 non-null datetime64[ns]\n",
      "height         11060 non-null float64\n",
      "weight         11060 non-null int64\n",
      "dtypes: datetime64[ns](1), float64(1), int64(1), object(1)\n",
      "memory usage: 432.0+ KB\n"
     ]
    }
   ],
   "source": [
    "# write query to import player table\n",
    "player_df = pd.read_sql( \n",
    "    \"\"\"\n",
    "    SELECT player_api_id as id, player_name, birthday, height, weight \n",
    "    FROM Player;\n",
    "    \"\"\", con=con, index_col='id', parse_dates=['birthday'])\n",
    "\n",
    "# observe column names and datatypes\n",
    "player_df.info()         "
   ]
  },
  {
   "cell_type": "code",
   "execution_count": 4,
   "metadata": {
    "scrolled": true
   },
   "outputs": [
    {
     "name": "stdout",
     "output_type": "stream",
     "text": [
      "<class 'pandas.core.frame.DataFrame'>\n",
      "Int64Index: 11 entries, 1 to 24558\n",
      "Data columns (total 2 columns):\n",
      "country_id    11 non-null int64\n",
      "name          11 non-null object\n",
      "dtypes: int64(1), object(1)\n",
      "memory usage: 264.0+ bytes\n"
     ]
    }
   ],
   "source": [
    "# query to import league table\n",
    "league_df = pd.read_sql(\n",
    "    \"\"\"\n",
    "    SELECT * FROM League;\n",
    "    \"\"\", con=con, index_col='id')\n",
    "\n",
    "# observe column names and datatypes\n",
    "league_df.info()"
   ]
  },
  {
   "cell_type": "code",
   "execution_count": 5,
   "metadata": {},
   "outputs": [
    {
     "name": "stdout",
     "output_type": "stream",
     "text": [
      "<class 'pandas.core.frame.DataFrame'>\n",
      "Int64Index: 299 entries, 9987 to 7896\n",
      "Data columns (total 4 columns):\n",
      "id                  299 non-null int64\n",
      "team_fifa_api_id    288 non-null float64\n",
      "team_long_name      299 non-null object\n",
      "team_short_name     299 non-null object\n",
      "dtypes: float64(1), int64(1), object(2)\n",
      "memory usage: 11.7+ KB\n"
     ]
    }
   ],
   "source": [
    "team_df = pd.read_sql(\n",
    "    \"\"\"\n",
    "    SELECT * FROM team;\n",
    "    \"\"\", con=con, index_col='team_api_id')\n",
    "team_df.info()"
   ]
  },
  {
   "cell_type": "markdown",
   "metadata": {},
   "source": [
    "Because the `Match` table contains the majority of the data pertinent to my analysis, I will try to `JOIN` the other tables as early as possible so that I can drop everything that I don't need and avoid doing any more operations.\n",
    "\n",
    "First I pull the `Country` and `League` names directly in, using an `INNER JOIN` on their respective ID's.\n",
    "\n",
    "I also have the `%%time` magic called because this table is so large; I want to also keep track of how long operations take and attempt to remove unnecessary steps at the end."
   ]
  },
  {
   "cell_type": "code",
   "execution_count": 6,
   "metadata": {},
   "outputs": [
    {
     "name": "stdout",
     "output_type": "stream",
     "text": [
      "<class 'pandas.core.frame.DataFrame'>\n",
      "Int64Index: 25979 entries, 1 to 25979\n",
      "Columns: 116 entries, country to BSA\n",
      "dtypes: datetime64[ns](1), float64(96), int64(8), object(11)\n",
      "memory usage: 23.2+ MB\n"
     ]
    }
   ],
   "source": [
    "match_df = pd.read_sql(\n",
    "    \"\"\"\n",
    "    SELECT Country.name as country, League.name as league, match.*\n",
    "    FROM match\n",
    "    JOIN Country ON Country.id = match.country_id\n",
    "    JOIN League ON League.id = match.league_id;\n",
    "    \"\"\", con=con, index_col='id', parse_dates=['date'])\n",
    "match_df.info()"
   ]
  },
  {
   "cell_type": "code",
   "execution_count": 121,
   "metadata": {},
   "outputs": [
    {
     "name": "stdout",
     "output_type": "stream",
     "text": [
      "<class 'pandas.core.frame.DataFrame'>\n",
      "Int64Index: 25979 entries, 1 to 25979\n",
      "Data columns (total 76 columns):\n",
      "country_id          25979 non-null int64\n",
      "league_id           25979 non-null int64\n",
      "season              25979 non-null object\n",
      "stage               25979 non-null int64\n",
      "date                25979 non-null datetime64[ns]\n",
      "match_api_id        25979 non-null int64\n",
      "home_team_api_id    25979 non-null int64\n",
      "away_team_api_id    25979 non-null int64\n",
      "home_team_goal      25979 non-null int64\n",
      "away_team_goal      25979 non-null int64\n",
      "home_player_X1      24158 non-null float64\n",
      "home_player_X2      24158 non-null float64\n",
      "home_player_X3      24147 non-null float64\n",
      "home_player_X4      24147 non-null float64\n",
      "home_player_X5      24147 non-null float64\n",
      "home_player_X6      24147 non-null float64\n",
      "home_player_X7      24147 non-null float64\n",
      "home_player_X8      24147 non-null float64\n",
      "home_player_X9      24147 non-null float64\n",
      "home_player_X10     24147 non-null float64\n",
      "home_player_X11     24147 non-null float64\n",
      "away_player_X1      24147 non-null float64\n",
      "away_player_X2      24147 non-null float64\n",
      "away_player_X3      24147 non-null float64\n",
      "away_player_X4      24147 non-null float64\n",
      "away_player_X5      24147 non-null float64\n",
      "away_player_X6      24147 non-null float64\n",
      "away_player_X7      24147 non-null float64\n",
      "away_player_X8      24147 non-null float64\n",
      "away_player_X9      24146 non-null float64\n",
      "away_player_X10     24146 non-null float64\n",
      "away_player_X11     24140 non-null float64\n",
      "home_player_Y1      24158 non-null float64\n",
      "home_player_Y2      24158 non-null float64\n",
      "home_player_Y3      24147 non-null float64\n",
      "home_player_Y4      24147 non-null float64\n",
      "home_player_Y5      24147 non-null float64\n",
      "home_player_Y6      24147 non-null float64\n",
      "home_player_Y7      24147 non-null float64\n",
      "home_player_Y8      24147 non-null float64\n",
      "home_player_Y9      24147 non-null float64\n",
      "home_player_Y10     24147 non-null float64\n",
      "home_player_Y11     24147 non-null float64\n",
      "away_player_Y1      24147 non-null float64\n",
      "away_player_Y2      24147 non-null float64\n",
      "away_player_Y3      24147 non-null float64\n",
      "away_player_Y4      24147 non-null float64\n",
      "away_player_Y5      24147 non-null float64\n",
      "away_player_Y6      24147 non-null float64\n",
      "away_player_Y7      24147 non-null float64\n",
      "away_player_Y8      24147 non-null float64\n",
      "away_player_Y9      24146 non-null float64\n",
      "away_player_Y10     24146 non-null float64\n",
      "away_player_Y11     24140 non-null float64\n",
      "home_player_1       24755 non-null float64\n",
      "home_player_2       24664 non-null float64\n",
      "home_player_3       24698 non-null float64\n",
      "home_player_4       24656 non-null float64\n",
      "home_player_5       24663 non-null float64\n",
      "home_player_6       24654 non-null float64\n",
      "home_player_7       24752 non-null float64\n",
      "home_player_8       24670 non-null float64\n",
      "home_player_9       24706 non-null float64\n",
      "home_player_10      24543 non-null float64\n",
      "home_player_11      24424 non-null float64\n",
      "away_player_1       24745 non-null float64\n",
      "away_player_2       24701 non-null float64\n",
      "away_player_3       24686 non-null float64\n",
      "away_player_4       24658 non-null float64\n",
      "away_player_5       24644 non-null float64\n",
      "away_player_6       24666 non-null float64\n",
      "away_player_7       24744 non-null float64\n",
      "away_player_8       24638 non-null float64\n",
      "away_player_9       24651 non-null float64\n",
      "away_player_10      24538 non-null float64\n",
      "away_player_11      24425 non-null float64\n",
      "dtypes: datetime64[ns](1), float64(66), int64(8), object(1)\n",
      "memory usage: 15.3+ MB\n"
     ]
    }
   ],
   "source": [
    "match_df_copy = pd.read_sql(\n",
    "    \"\"\"\n",
    "    SELECT * FROM match;\n",
    "    \"\"\", con=con, index_col='id', parse_dates=['date'])\n",
    "match_df_copy = match_df_copy[match_df_copy.columns[:76]]\n",
    "match_df_copy.info()"
   ]
  },
  {
   "cell_type": "markdown",
   "metadata": {},
   "source": [
    "One of the first issues I will need to tackle is reducing the amount of columns in this table. The above output shows that there are 116 columns, too many to be listed using `.info()`. I will need to print a list of the columns to take a look."
   ]
  },
  {
   "cell_type": "code",
   "execution_count": 7,
   "metadata": {},
   "outputs": [
    {
     "name": "stdout",
     "output_type": "stream",
     "text": [
      "0: country\n",
      "1: league\n",
      "2: country_id\n",
      "3: league_id\n",
      "4: season\n",
      "5: stage\n",
      "6: date\n",
      "7: match_api_id\n",
      "8: home_team_api_id\n",
      "9: away_team_api_id\n",
      "10: home_team_goal\n",
      "11: away_team_goal\n",
      "12: home_player_X1\n",
      "13: home_player_X2\n",
      "14: home_player_X3\n",
      "15: home_player_X4\n",
      "16: home_player_X5\n",
      "17: home_player_X6\n",
      "18: home_player_X7\n",
      "19: home_player_X8\n",
      "20: home_player_X9\n",
      "21: home_player_X10\n",
      "22: home_player_X11\n",
      "23: away_player_X1\n",
      "24: away_player_X2\n",
      "25: away_player_X3\n",
      "26: away_player_X4\n",
      "27: away_player_X5\n",
      "28: away_player_X6\n",
      "29: away_player_X7\n",
      "30: away_player_X8\n",
      "31: away_player_X9\n",
      "32: away_player_X10\n",
      "33: away_player_X11\n",
      "34: home_player_Y1\n",
      "35: home_player_Y2\n",
      "36: home_player_Y3\n",
      "37: home_player_Y4\n",
      "38: home_player_Y5\n",
      "39: home_player_Y6\n",
      "40: home_player_Y7\n",
      "41: home_player_Y8\n",
      "42: home_player_Y9\n",
      "43: home_player_Y10\n",
      "44: home_player_Y11\n",
      "45: away_player_Y1\n",
      "46: away_player_Y2\n",
      "47: away_player_Y3\n",
      "48: away_player_Y4\n",
      "49: away_player_Y5\n",
      "50: away_player_Y6\n",
      "51: away_player_Y7\n",
      "52: away_player_Y8\n",
      "53: away_player_Y9\n",
      "54: away_player_Y10\n",
      "55: away_player_Y11\n",
      "56: home_player_1\n",
      "57: home_player_2\n",
      "58: home_player_3\n",
      "59: home_player_4\n",
      "60: home_player_5\n",
      "61: home_player_6\n",
      "62: home_player_7\n",
      "63: home_player_8\n",
      "64: home_player_9\n",
      "65: home_player_10\n",
      "66: home_player_11\n",
      "67: away_player_1\n",
      "68: away_player_2\n",
      "69: away_player_3\n",
      "70: away_player_4\n",
      "71: away_player_5\n",
      "72: away_player_6\n",
      "73: away_player_7\n",
      "74: away_player_8\n",
      "75: away_player_9\n",
      "76: away_player_10\n",
      "77: away_player_11\n",
      "78: goal\n",
      "79: shoton\n",
      "80: shotoff\n",
      "81: foulcommit\n",
      "82: card\n",
      "83: cross\n",
      "84: corner\n",
      "85: possession\n",
      "86: B365H\n",
      "87: B365D\n",
      "88: B365A\n",
      "89: BWH\n",
      "90: BWD\n",
      "91: BWA\n",
      "92: IWH\n",
      "93: IWD\n",
      "94: IWA\n",
      "95: LBH\n",
      "96: LBD\n",
      "97: LBA\n",
      "98: PSH\n",
      "99: PSD\n",
      "100: PSA\n",
      "101: WHH\n",
      "102: WHD\n",
      "103: WHA\n",
      "104: SJH\n",
      "105: SJD\n",
      "106: SJA\n",
      "107: VCH\n",
      "108: VCD\n",
      "109: VCA\n",
      "110: GBH\n",
      "111: GBD\n",
      "112: GBA\n",
      "113: BSH\n",
      "114: BSD\n",
      "115: BSA\n"
     ]
    }
   ],
   "source": [
    "for num, column in enumerate(list(match_df)):\n",
    "    print('%i: %s' % (num,column))"
   ]
  },
  {
   "cell_type": "markdown",
   "metadata": {},
   "source": [
    "### Data Cleaning"
   ]
  },
  {
   "cell_type": "markdown",
   "metadata": {},
   "source": [
    "It looks like I will want to lose all of the columns after 77, because they contain metrics that I am not interested in for this analysis. In this case, I find it much easier to lose the columns within Pandas rather than SQL, because I want to use a numbered range."
   ]
  },
  {
   "cell_type": "code",
   "execution_count": 117,
   "metadata": {},
   "outputs": [],
   "source": [
    "# Drop columns by index\n",
    "match_df = match_df[match_df.columns[:78]]\n",
    "match_df_copy = match_df.copy()"
   ]
  },
  {
   "cell_type": "markdown",
   "metadata": {},
   "source": [
    "Now I will convert the other column values from ID numbers to their respective string values. I still need to do this for the home and away team names, but it was already tackled in the SQL `JOIN` earlier for the 'Country' and 'League' columns. All I need to do is drop those ID columns as well."
   ]
  },
  {
   "cell_type": "code",
   "execution_count": 9,
   "metadata": {},
   "outputs": [],
   "source": [
    "values_dict = team_df['team_long_name'].to_dict()\n",
    "match_df['home_team_api_id'] = match_df['home_team_api_id'].astype('int')\n",
    "match_df['home_team_name'] = match_df['home_team_api_id'].replace(values_dict)\n",
    "match_df['away_team_api_id'] = match_df['away_team_api_id'].astype('int')\n",
    "match_df['away_team_name'] = match_df['away_team_api_id'].replace(values_dict)"
   ]
  },
  {
   "cell_type": "code",
   "execution_count": 10,
   "metadata": {},
   "outputs": [],
   "source": [
    "# Drop columns by name\n",
    "match_df.drop(['country_id', 'league_id', 'home_team_api_id', 'away_team_api_id'], axis=1, inplace=True)"
   ]
  },
  {
   "cell_type": "code",
   "execution_count": 11,
   "metadata": {
    "scrolled": true
   },
   "outputs": [
    {
     "name": "stdout",
     "output_type": "stream",
     "text": [
      "<class 'pandas.core.frame.DataFrame'>\n",
      "Int64Index: 25979 entries, 1 to 25979\n",
      "Data columns (total 76 columns):\n",
      "country            25979 non-null object\n",
      "league             25979 non-null object\n",
      "season             25979 non-null object\n",
      "stage              25979 non-null int64\n",
      "date               25979 non-null datetime64[ns]\n",
      "match_api_id       25979 non-null int64\n",
      "home_team_goal     25979 non-null int64\n",
      "away_team_goal     25979 non-null int64\n",
      "home_player_X1     24158 non-null float64\n",
      "home_player_X2     24158 non-null float64\n",
      "home_player_X3     24147 non-null float64\n",
      "home_player_X4     24147 non-null float64\n",
      "home_player_X5     24147 non-null float64\n",
      "home_player_X6     24147 non-null float64\n",
      "home_player_X7     24147 non-null float64\n",
      "home_player_X8     24147 non-null float64\n",
      "home_player_X9     24147 non-null float64\n",
      "home_player_X10    24147 non-null float64\n",
      "home_player_X11    24147 non-null float64\n",
      "away_player_X1     24147 non-null float64\n",
      "away_player_X2     24147 non-null float64\n",
      "away_player_X3     24147 non-null float64\n",
      "away_player_X4     24147 non-null float64\n",
      "away_player_X5     24147 non-null float64\n",
      "away_player_X6     24147 non-null float64\n",
      "away_player_X7     24147 non-null float64\n",
      "away_player_X8     24147 non-null float64\n",
      "away_player_X9     24146 non-null float64\n",
      "away_player_X10    24146 non-null float64\n",
      "away_player_X11    24140 non-null float64\n",
      "home_player_Y1     24158 non-null float64\n",
      "home_player_Y2     24158 non-null float64\n",
      "home_player_Y3     24147 non-null float64\n",
      "home_player_Y4     24147 non-null float64\n",
      "home_player_Y5     24147 non-null float64\n",
      "home_player_Y6     24147 non-null float64\n",
      "home_player_Y7     24147 non-null float64\n",
      "home_player_Y8     24147 non-null float64\n",
      "home_player_Y9     24147 non-null float64\n",
      "home_player_Y10    24147 non-null float64\n",
      "home_player_Y11    24147 non-null float64\n",
      "away_player_Y1     24147 non-null float64\n",
      "away_player_Y2     24147 non-null float64\n",
      "away_player_Y3     24147 non-null float64\n",
      "away_player_Y4     24147 non-null float64\n",
      "away_player_Y5     24147 non-null float64\n",
      "away_player_Y6     24147 non-null float64\n",
      "away_player_Y7     24147 non-null float64\n",
      "away_player_Y8     24147 non-null float64\n",
      "away_player_Y9     24146 non-null float64\n",
      "away_player_Y10    24146 non-null float64\n",
      "away_player_Y11    24140 non-null float64\n",
      "home_player_1      24755 non-null float64\n",
      "home_player_2      24664 non-null float64\n",
      "home_player_3      24698 non-null float64\n",
      "home_player_4      24656 non-null float64\n",
      "home_player_5      24663 non-null float64\n",
      "home_player_6      24654 non-null float64\n",
      "home_player_7      24752 non-null float64\n",
      "home_player_8      24670 non-null float64\n",
      "home_player_9      24706 non-null float64\n",
      "home_player_10     24543 non-null float64\n",
      "home_player_11     24424 non-null float64\n",
      "away_player_1      24745 non-null float64\n",
      "away_player_2      24701 non-null float64\n",
      "away_player_3      24686 non-null float64\n",
      "away_player_4      24658 non-null float64\n",
      "away_player_5      24644 non-null float64\n",
      "away_player_6      24666 non-null float64\n",
      "away_player_7      24744 non-null float64\n",
      "away_player_8      24638 non-null float64\n",
      "away_player_9      24651 non-null float64\n",
      "away_player_10     24538 non-null float64\n",
      "away_player_11     24425 non-null float64\n",
      "home_team_name     25979 non-null object\n",
      "away_team_name     25979 non-null object\n",
      "dtypes: datetime64[ns](1), float64(66), int64(4), object(5)\n",
      "memory usage: 15.3+ MB\n"
     ]
    }
   ],
   "source": [
    "match_df.info()"
   ]
  },
  {
   "cell_type": "markdown",
   "metadata": {},
   "source": [
    "From looking at the remaining columns, I can see that many of the rows contain null values.\n",
    "\n",
    "Below I will drop any rows containing null values using the `dropna` function."
   ]
  },
  {
   "cell_type": "code",
   "execution_count": 12,
   "metadata": {
    "scrolled": true
   },
   "outputs": [],
   "source": [
    "match_df.dropna(how='any',inplace=True)"
   ]
  },
  {
   "cell_type": "code",
   "execution_count": 13,
   "metadata": {
    "scrolled": true
   },
   "outputs": [
    {
     "name": "stdout",
     "output_type": "stream",
     "text": [
      "<class 'pandas.core.frame.DataFrame'>\n",
      "Int64Index: 21361 entries, 146 to 25979\n",
      "Data columns (total 76 columns):\n",
      "country            21361 non-null object\n",
      "league             21361 non-null object\n",
      "season             21361 non-null object\n",
      "stage              21361 non-null int64\n",
      "date               21361 non-null datetime64[ns]\n",
      "match_api_id       21361 non-null int64\n",
      "home_team_goal     21361 non-null int64\n",
      "away_team_goal     21361 non-null int64\n",
      "home_player_X1     21361 non-null float64\n",
      "home_player_X2     21361 non-null float64\n",
      "home_player_X3     21361 non-null float64\n",
      "home_player_X4     21361 non-null float64\n",
      "home_player_X5     21361 non-null float64\n",
      "home_player_X6     21361 non-null float64\n",
      "home_player_X7     21361 non-null float64\n",
      "home_player_X8     21361 non-null float64\n",
      "home_player_X9     21361 non-null float64\n",
      "home_player_X10    21361 non-null float64\n",
      "home_player_X11    21361 non-null float64\n",
      "away_player_X1     21361 non-null float64\n",
      "away_player_X2     21361 non-null float64\n",
      "away_player_X3     21361 non-null float64\n",
      "away_player_X4     21361 non-null float64\n",
      "away_player_X5     21361 non-null float64\n",
      "away_player_X6     21361 non-null float64\n",
      "away_player_X7     21361 non-null float64\n",
      "away_player_X8     21361 non-null float64\n",
      "away_player_X9     21361 non-null float64\n",
      "away_player_X10    21361 non-null float64\n",
      "away_player_X11    21361 non-null float64\n",
      "home_player_Y1     21361 non-null float64\n",
      "home_player_Y2     21361 non-null float64\n",
      "home_player_Y3     21361 non-null float64\n",
      "home_player_Y4     21361 non-null float64\n",
      "home_player_Y5     21361 non-null float64\n",
      "home_player_Y6     21361 non-null float64\n",
      "home_player_Y7     21361 non-null float64\n",
      "home_player_Y8     21361 non-null float64\n",
      "home_player_Y9     21361 non-null float64\n",
      "home_player_Y10    21361 non-null float64\n",
      "home_player_Y11    21361 non-null float64\n",
      "away_player_Y1     21361 non-null float64\n",
      "away_player_Y2     21361 non-null float64\n",
      "away_player_Y3     21361 non-null float64\n",
      "away_player_Y4     21361 non-null float64\n",
      "away_player_Y5     21361 non-null float64\n",
      "away_player_Y6     21361 non-null float64\n",
      "away_player_Y7     21361 non-null float64\n",
      "away_player_Y8     21361 non-null float64\n",
      "away_player_Y9     21361 non-null float64\n",
      "away_player_Y10    21361 non-null float64\n",
      "away_player_Y11    21361 non-null float64\n",
      "home_player_1      21361 non-null float64\n",
      "home_player_2      21361 non-null float64\n",
      "home_player_3      21361 non-null float64\n",
      "home_player_4      21361 non-null float64\n",
      "home_player_5      21361 non-null float64\n",
      "home_player_6      21361 non-null float64\n",
      "home_player_7      21361 non-null float64\n",
      "home_player_8      21361 non-null float64\n",
      "home_player_9      21361 non-null float64\n",
      "home_player_10     21361 non-null float64\n",
      "home_player_11     21361 non-null float64\n",
      "away_player_1      21361 non-null float64\n",
      "away_player_2      21361 non-null float64\n",
      "away_player_3      21361 non-null float64\n",
      "away_player_4      21361 non-null float64\n",
      "away_player_5      21361 non-null float64\n",
      "away_player_6      21361 non-null float64\n",
      "away_player_7      21361 non-null float64\n",
      "away_player_8      21361 non-null float64\n",
      "away_player_9      21361 non-null float64\n",
      "away_player_10     21361 non-null float64\n",
      "away_player_11     21361 non-null float64\n",
      "home_team_name     21361 non-null object\n",
      "away_team_name     21361 non-null object\n",
      "dtypes: datetime64[ns](1), float64(66), int64(4), object(5)\n",
      "memory usage: 12.5+ MB\n"
     ]
    }
   ],
   "source": [
    "match_df.info()"
   ]
  },
  {
   "cell_type": "markdown",
   "metadata": {},
   "source": [
    "We can now see that each of the columns contains the same number of non-null entries, so there are no empty fields. There are still over 21,000 records even after being selective with the data, which should be plenty for this analysis."
   ]
  },
  {
   "cell_type": "markdown",
   "metadata": {},
   "source": [
    "Now I have gotten from the original 116 columns down to 76, which is still not quite easily readable. This is partially because both teams have 11 players, each of which has 3 dedicated columns in this table:\n",
    "- `home/away_player_N` - the API ID of the player in that position\n",
    "- `home/away_player_XN`- the 'X' coordinate position of the player on the field\n",
    "- `home/away_player_YN`- the 'Y' coordinate position of the player on the field\n",
    "\n",
    "To me, it makes more sense to condense these 3 fields for each player into a dictionary which specifices the `X,Y` coordinate set of the player's location:\n",
    "```\n",
    "{player: (x_coord, y_coord)}\n",
    "```\n",
    "\n",
    "To begin, I make a list of all of the player-related columns (they all have the word 'player' in the name)."
   ]
  },
  {
   "cell_type": "code",
   "execution_count": 14,
   "metadata": {},
   "outputs": [],
   "source": [
    "# a list comprehension of all the column names with the word 'player'\n",
    "player_cols = [col for col in match_df.columns if 'player' in col]"
   ]
  },
  {
   "cell_type": "code",
   "execution_count": 15,
   "metadata": {},
   "outputs": [],
   "source": [
    "players = {}\n",
    "\n",
    "for i in range(1,12):\n",
    "    home_str = 'home_player_'\n",
    "    away_str = 'away_player_'\n",
    "    players[home_str+str(i)] = (home_str+'X'+str(i), home_str+'Y'+str(i))\n",
    "    players[away_str+str(i)] = (away_str+'X'+str(i), away_str+'Y'+str(i))"
   ]
  },
  {
   "cell_type": "code",
   "execution_count": 16,
   "metadata": {},
   "outputs": [],
   "source": [
    "values_dict = player_df['player_name'].to_dict()\n",
    "\n",
    "def posit_dict(x, y, z):\n",
    "    return dict([(x,(int(y),int(z)))])\n",
    "\n",
    "for player in players.keys():\n",
    "    df_name = player + '_coords'\n",
    "    player_x = players[player][0]\n",
    "    player_y = players[player][1]\n",
    "    match_df[player] = match_df[player].astype('int')\n",
    "    match_df[player] = match_df[player].replace(values_dict)\n",
    "    match_df[df_name] = match_df.apply(lambda x: posit_dict(x[player], x[player_x], x[player_y]), axis=1)\n",
    "    match_df.drop([player, player_x, player_y], axis=1, inplace=True)"
   ]
  },
  {
   "cell_type": "code",
   "execution_count": 17,
   "metadata": {},
   "outputs": [
    {
     "name": "stdout",
     "output_type": "stream",
     "text": [
      "0: country\n",
      "1: league\n",
      "2: season\n",
      "3: stage\n",
      "4: date\n",
      "5: match_api_id\n",
      "6: home_team_goal\n",
      "7: away_team_goal\n",
      "8: home_team_name\n",
      "9: away_team_name\n",
      "10: home_player_1_coords\n",
      "11: away_player_1_coords\n",
      "12: home_player_2_coords\n",
      "13: away_player_2_coords\n",
      "14: home_player_3_coords\n",
      "15: away_player_3_coords\n",
      "16: home_player_4_coords\n",
      "17: away_player_4_coords\n",
      "18: home_player_5_coords\n",
      "19: away_player_5_coords\n",
      "20: home_player_6_coords\n",
      "21: away_player_6_coords\n",
      "22: home_player_7_coords\n",
      "23: away_player_7_coords\n",
      "24: home_player_8_coords\n",
      "25: away_player_8_coords\n",
      "26: home_player_9_coords\n",
      "27: away_player_9_coords\n",
      "28: home_player_10_coords\n",
      "29: away_player_10_coords\n",
      "30: home_player_11_coords\n",
      "31: away_player_11_coords\n"
     ]
    }
   ],
   "source": [
    "for num, column in enumerate(list(match_df)):\n",
    "    print('%i: %s' % (num,column))"
   ]
  },
  {
   "cell_type": "markdown",
   "metadata": {},
   "source": [
    "Now it seems that we have a manageable number of columns, and we can be confident that each row contains all of the relevant information."
   ]
  },
  {
   "cell_type": "markdown",
   "metadata": {},
   "source": [
    "<a id='eda'></a>\n",
    "## Exploratory Data Analysis\n",
    "\n",
    "> **Tip**: Now that you've trimmed and cleaned your data, you're ready to move on to exploration. Compute statistics and create visualizations with the goal of addressing the research questions that you posed in the Introduction section. It is recommended that you be systematic with your approach. Look at one variable at a time, and then follow it up by looking at relationships between variables.\n",
    "\n",
    "### Research Question 1: Which team formations are the most effective?"
   ]
  },
  {
   "cell_type": "code",
   "execution_count": 131,
   "metadata": {},
   "outputs": [
    {
     "ename": "ValueError",
     "evalue": "only 2 non-keyword arguments accepted",
     "output_type": "error",
     "traceback": [
      "\u001b[1;31m---------------------------------------------------------------------------\u001b[0m",
      "\u001b[1;31mValueError\u001b[0m                                Traceback (most recent call last)",
      "\u001b[1;32m<ipython-input-131-b5af9619c0f4>\u001b[0m in \u001b[0;36m<module>\u001b[1;34m\u001b[0m\n\u001b[0;32m      3\u001b[0m \u001b[0mform_names\u001b[0m \u001b[1;33m=\u001b[0m \u001b[1;33m[\u001b[0m\u001b[1;34m'4-4-2'\u001b[0m\u001b[1;33m,\u001b[0m\u001b[1;34m'4-3-3'\u001b[0m\u001b[1;33m,\u001b[0m\u001b[1;34m'3-4-3'\u001b[0m\u001b[1;33m,\u001b[0m\u001b[1;34m'3-6-1'\u001b[0m\u001b[1;33m,\u001b[0m\u001b[1;34m'3-4-2-1'\u001b[0m\u001b[1;33m,\u001b[0m\u001b[1;34m'4-5-1'\u001b[0m\u001b[1;33m,\u001b[0m\u001b[1;34m'5-2-2-1'\u001b[0m\u001b[1;33m,\u001b[0m\u001b[1;34m'3-5-2'\u001b[0m\u001b[1;33m]\u001b[0m\u001b[1;33m\u001b[0m\u001b[1;33m\u001b[0m\u001b[0m\n\u001b[0;32m      4\u001b[0m \u001b[0mform_arrays\u001b[0m \u001b[1;33m=\u001b[0m \u001b[1;32mNone\u001b[0m\u001b[1;33m\u001b[0m\u001b[1;33m\u001b[0m\u001b[0m\n\u001b[1;32m----> 5\u001b[1;33m \u001b[0mpop_form_df\u001b[0m \u001b[1;33m=\u001b[0m \u001b[0mpd\u001b[0m\u001b[1;33m.\u001b[0m\u001b[0mDataFrame\u001b[0m\u001b[1;33m(\u001b[0m\u001b[0mnp\u001b[0m\u001b[1;33m.\u001b[0m\u001b[0marray\u001b[0m\u001b[1;33m(\u001b[0m\u001b[0mform_ids\u001b[0m\u001b[1;33m,\u001b[0m\u001b[0mform_names\u001b[0m\u001b[1;33m,\u001b[0m\u001b[0mform_arrays\u001b[0m\u001b[1;33m)\u001b[0m\u001b[1;33m,\u001b[0m \u001b[0mcolumns\u001b[0m\u001b[1;33m=\u001b[0m\u001b[1;33m[\u001b[0m\u001b[1;34m'id'\u001b[0m\u001b[1;33m,\u001b[0m\u001b[1;34m'name'\u001b[0m\u001b[1;33m,\u001b[0m\u001b[1;34m'array'\u001b[0m\u001b[1;33m]\u001b[0m\u001b[1;33m,\u001b[0m \u001b[0mindex\u001b[0m\u001b[1;33m=\u001b[0m\u001b[1;34m'id'\u001b[0m\u001b[1;33m)\u001b[0m\u001b[1;33m\u001b[0m\u001b[1;33m\u001b[0m\u001b[0m\n\u001b[0m",
      "\u001b[1;31mValueError\u001b[0m: only 2 non-keyword arguments accepted"
     ]
    }
   ],
   "source": [
    "# Create dataframe of popular team formations\n",
    "form_ids = range(8)\n",
    "form_names = ['4-4-2','4-3-3','3-4-3','3-6-1','3-4-2-1','4-5-1','5-2-2-1','3-5-2']\n",
    "form_arrays = None\n",
    "pop_form_df = pd.DataFrame(np.array(form_ids,form_names,form_arrays), columns=['id','name','array'], index='id')"
   ]
  },
  {
   "cell_type": "code",
   "execution_count": 108,
   "metadata": {},
   "outputs": [
    {
     "data": {
      "text/html": [
       "<div>\n",
       "<style scoped>\n",
       "    .dataframe tbody tr th:only-of-type {\n",
       "        vertical-align: middle;\n",
       "    }\n",
       "\n",
       "    .dataframe tbody tr th {\n",
       "        vertical-align: top;\n",
       "    }\n",
       "\n",
       "    .dataframe thead th {\n",
       "        text-align: right;\n",
       "    }\n",
       "</style>\n",
       "<table border=\"1\" class=\"dataframe\">\n",
       "  <thead>\n",
       "    <tr style=\"text-align: right;\">\n",
       "      <th></th>\n",
       "      <th>home_team_goal</th>\n",
       "      <th>away_team_goal</th>\n",
       "      <th>Score_Delt</th>\n",
       "      <th>Outcome</th>\n",
       "    </tr>\n",
       "    <tr>\n",
       "      <th>id</th>\n",
       "      <th></th>\n",
       "      <th></th>\n",
       "      <th></th>\n",
       "      <th></th>\n",
       "    </tr>\n",
       "  </thead>\n",
       "  <tbody>\n",
       "    <tr>\n",
       "      <th>25973</th>\n",
       "      <td>3</td>\n",
       "      <td>3</td>\n",
       "      <td>0</td>\n",
       "      <td>tie</td>\n",
       "    </tr>\n",
       "    <tr>\n",
       "      <th>25975</th>\n",
       "      <td>1</td>\n",
       "      <td>0</td>\n",
       "      <td>1</td>\n",
       "      <td>home</td>\n",
       "    </tr>\n",
       "    <tr>\n",
       "      <th>25976</th>\n",
       "      <td>1</td>\n",
       "      <td>2</td>\n",
       "      <td>-1</td>\n",
       "      <td>away</td>\n",
       "    </tr>\n",
       "    <tr>\n",
       "      <th>25977</th>\n",
       "      <td>2</td>\n",
       "      <td>0</td>\n",
       "      <td>2</td>\n",
       "      <td>home</td>\n",
       "    </tr>\n",
       "    <tr>\n",
       "      <th>25979</th>\n",
       "      <td>4</td>\n",
       "      <td>3</td>\n",
       "      <td>1</td>\n",
       "      <td>home</td>\n",
       "    </tr>\n",
       "  </tbody>\n",
       "</table>\n",
       "</div>"
      ],
      "text/plain": [
       "       home_team_goal  away_team_goal  Score_Delt Outcome\n",
       "id                                                       \n",
       "25973               3               3           0     tie\n",
       "25975               1               0           1    home\n",
       "25976               1               2          -1    away\n",
       "25977               2               0           2    home\n",
       "25979               4               3           1    home"
      ]
     },
     "execution_count": 108,
     "metadata": {},
     "output_type": "execute_result"
    }
   ],
   "source": [
    "# Add a column for the difference between home & away goals scored\n",
    "match_df['Score_Delt'] = match_df['home_team_goal']-match_df['away_team_goal']\n",
    "\n",
    "# Add another column specifying if the home or away team won\n",
    "bins = [np.NINF, -0.1, 0.1, np.Inf]\n",
    "match_df['Outcome'] = pd.cut(match_df['Score_Delt'], bins, labels=['away','tie','home'], include_lowest=True)\n",
    "\n",
    "# Verify that the output makes sense\n",
    "match_df[['home_team_goal','away_team_goal','Score_Delt','Outcome']].tail(5)"
   ]
  },
  {
   "cell_type": "code",
   "execution_count": 20,
   "metadata": {},
   "outputs": [],
   "source": [
    "home_coords_list = list(match_df.filter(regex='home.*_coords', axis=1))\n",
    "away_coords_list = list(match_df.filter(regex='away.*_coords', axis=1))\n",
    "home_temp_dict = match_df[home_coords_list].apply(lambda x: x.tolist(), axis=1)\n",
    "away_temp_dict = match_df[away_coords_list].apply(lambda x: x.tolist(), axis=1)"
   ]
  },
  {
   "cell_type": "code",
   "execution_count": 21,
   "metadata": {},
   "outputs": [],
   "source": [
    "home_formations = []\n",
    "away_formations = []\n",
    "\n",
    "for row in home_temp_dict:\n",
    "    home_team_formation = []\n",
    "    for dict in row:\n",
    "        home_team_formation.append(list(dict.values())[0])\n",
    "    home_formations.append(home_team_formation)\n",
    "    \n",
    "for row in away_temp_dict:\n",
    "    away_team_formation = []\n",
    "    for dict in row:\n",
    "        away_team_formation.append(list(dict.values())[0])\n",
    "    away_formations.append(away_team_formation)\n",
    "\n",
    "home_formations = np.array(home_formations)\n",
    "away_formations = np.array(away_formations)"
   ]
  },
  {
   "cell_type": "code",
   "execution_count": 22,
   "metadata": {},
   "outputs": [
    {
     "name": "stdout",
     "output_type": "stream",
     "text": [
      "(21361, 11, 2)\n",
      "(21361, 11, 2)\n"
     ]
    }
   ],
   "source": [
    "print(home_formations.shape)\n",
    "print(away_formations.shape)"
   ]
  },
  {
   "cell_type": "code",
   "execution_count": 105,
   "metadata": {},
   "outputs": [
    {
     "data": {
      "image/png": "[encoded data removed]",
      "text/plain": [
       "<Figure size 432x288 with 2 Axes>"
      ]
     },
     "metadata": {
      "needs_background": "light"
     },
     "output_type": "display_data"
    }
   ],
   "source": [
    "from matplotlib.colors import LogNorm\n",
    "test_home = home_formations.reshape((234971,2))\n",
    "x = test_home[:,0]\n",
    "y = test_home[:,1]\n",
    "\n",
    "p_h = plt.hist2d(x,y,bins=11,norm=LogNorm())\n",
    "plt.colorbar()\n",
    "plt.show()"
   ]
  },
  {
   "cell_type": "code",
   "execution_count": 103,
   "metadata": {},
   "outputs": [
    {
     "data": {
      "image/png": "[encoded data removed]",
      "text/plain": [
       "<Figure size 432x288 with 2 Axes>"
      ]
     },
     "metadata": {
      "needs_background": "light"
     },
     "output_type": "display_data"
    }
   ],
   "source": [
    "test_away = away_formations.reshape((234971,2))\n",
    "x = test_away[:,0]\n",
    "y = test_away[:,1]\n",
    "\n",
    "p_a = plt.hist2d(x,y,bins=11,norm=LogNorm())\n",
    "plt.colorbar()\n",
    "plt.show()"
   ]
  },
  {
   "cell_type": "markdown",
   "metadata": {},
   "source": []
  },
  {
   "cell_type": "markdown",
   "metadata": {},
   "source": [
    "### Research Question 2: Which players affect team performance the most?"
   ]
  },
  {
   "cell_type": "code",
   "execution_count": 130,
   "metadata": {},
   "outputs": [
    {
     "data": {
      "text/html": [
       "<div>\n",
       "<style scoped>\n",
       "    .dataframe tbody tr th:only-of-type {\n",
       "        vertical-align: middle;\n",
       "    }\n",
       "\n",
       "    .dataframe tbody tr th {\n",
       "        vertical-align: top;\n",
       "    }\n",
       "\n",
       "    .dataframe thead th {\n",
       "        text-align: right;\n",
       "    }\n",
       "</style>\n",
       "<table border=\"1\" class=\"dataframe\">\n",
       "  <thead>\n",
       "    <tr style=\"text-align: right;\">\n",
       "      <th></th>\n",
       "      <th>country_id</th>\n",
       "      <th>league_id</th>\n",
       "      <th>season</th>\n",
       "      <th>stage</th>\n",
       "      <th>date</th>\n",
       "      <th>match_api_id</th>\n",
       "      <th>home_team_api_id</th>\n",
       "      <th>away_team_api_id</th>\n",
       "      <th>home_team_goal</th>\n",
       "      <th>away_team_goal</th>\n",
       "      <th>...</th>\n",
       "      <th>away_player_2</th>\n",
       "      <th>away_player_3</th>\n",
       "      <th>away_player_4</th>\n",
       "      <th>away_player_5</th>\n",
       "      <th>away_player_6</th>\n",
       "      <th>away_player_7</th>\n",
       "      <th>away_player_8</th>\n",
       "      <th>away_player_9</th>\n",
       "      <th>away_player_10</th>\n",
       "      <th>away_player_11</th>\n",
       "    </tr>\n",
       "    <tr>\n",
       "      <th>id</th>\n",
       "      <th></th>\n",
       "      <th></th>\n",
       "      <th></th>\n",
       "      <th></th>\n",
       "      <th></th>\n",
       "      <th></th>\n",
       "      <th></th>\n",
       "      <th></th>\n",
       "      <th></th>\n",
       "      <th></th>\n",
       "      <th></th>\n",
       "      <th></th>\n",
       "      <th></th>\n",
       "      <th></th>\n",
       "      <th></th>\n",
       "      <th></th>\n",
       "      <th></th>\n",
       "      <th></th>\n",
       "      <th></th>\n",
       "      <th></th>\n",
       "      <th></th>\n",
       "    </tr>\n",
       "  </thead>\n",
       "  <tbody>\n",
       "    <tr>\n",
       "      <th>25975</th>\n",
       "      <td>24558</td>\n",
       "      <td>24558</td>\n",
       "      <td>2015/2016</td>\n",
       "      <td>9</td>\n",
       "      <td>2015-09-22</td>\n",
       "      <td>1992091</td>\n",
       "      <td>10190</td>\n",
       "      <td>10191</td>\n",
       "      <td>1</td>\n",
       "      <td>0</td>\n",
       "      <td>...</td>\n",
       "      <td>563066.0</td>\n",
       "      <td>8800.0</td>\n",
       "      <td>67304.0</td>\n",
       "      <td>158253.0</td>\n",
       "      <td>133126.0</td>\n",
       "      <td>186524.0</td>\n",
       "      <td>93223.0</td>\n",
       "      <td>121115.0</td>\n",
       "      <td>232110.0</td>\n",
       "      <td>289732.0</td>\n",
       "    </tr>\n",
       "    <tr>\n",
       "      <th>25976</th>\n",
       "      <td>24558</td>\n",
       "      <td>24558</td>\n",
       "      <td>2015/2016</td>\n",
       "      <td>9</td>\n",
       "      <td>2015-09-23</td>\n",
       "      <td>1992092</td>\n",
       "      <td>9824</td>\n",
       "      <td>10199</td>\n",
       "      <td>1</td>\n",
       "      <td>2</td>\n",
       "      <td>...</td>\n",
       "      <td>114792.0</td>\n",
       "      <td>150007.0</td>\n",
       "      <td>178119.0</td>\n",
       "      <td>27232.0</td>\n",
       "      <td>570830.0</td>\n",
       "      <td>260708.0</td>\n",
       "      <td>201704.0</td>\n",
       "      <td>36382.0</td>\n",
       "      <td>34082.0</td>\n",
       "      <td>95257.0</td>\n",
       "    </tr>\n",
       "    <tr>\n",
       "      <th>25977</th>\n",
       "      <td>24558</td>\n",
       "      <td>24558</td>\n",
       "      <td>2015/2016</td>\n",
       "      <td>9</td>\n",
       "      <td>2015-09-23</td>\n",
       "      <td>1992093</td>\n",
       "      <td>9956</td>\n",
       "      <td>10179</td>\n",
       "      <td>2</td>\n",
       "      <td>0</td>\n",
       "      <td>...</td>\n",
       "      <td>67349.0</td>\n",
       "      <td>202663.0</td>\n",
       "      <td>32597.0</td>\n",
       "      <td>114794.0</td>\n",
       "      <td>188114.0</td>\n",
       "      <td>25840.0</td>\n",
       "      <td>482200.0</td>\n",
       "      <td>95230.0</td>\n",
       "      <td>451335.0</td>\n",
       "      <td>275122.0</td>\n",
       "    </tr>\n",
       "    <tr>\n",
       "      <th>25978</th>\n",
       "      <td>24558</td>\n",
       "      <td>24558</td>\n",
       "      <td>2015/2016</td>\n",
       "      <td>9</td>\n",
       "      <td>2015-09-22</td>\n",
       "      <td>1992094</td>\n",
       "      <td>7896</td>\n",
       "      <td>10243</td>\n",
       "      <td>0</td>\n",
       "      <td>0</td>\n",
       "      <td>...</td>\n",
       "      <td>121080.0</td>\n",
       "      <td>197757.0</td>\n",
       "      <td>260964.0</td>\n",
       "      <td>231614.0</td>\n",
       "      <td>113235.0</td>\n",
       "      <td>41116.0</td>\n",
       "      <td>462608.0</td>\n",
       "      <td>42262.0</td>\n",
       "      <td>92252.0</td>\n",
       "      <td>194532.0</td>\n",
       "    </tr>\n",
       "    <tr>\n",
       "      <th>25979</th>\n",
       "      <td>24558</td>\n",
       "      <td>24558</td>\n",
       "      <td>2015/2016</td>\n",
       "      <td>9</td>\n",
       "      <td>2015-09-23</td>\n",
       "      <td>1992095</td>\n",
       "      <td>10192</td>\n",
       "      <td>9931</td>\n",
       "      <td>4</td>\n",
       "      <td>3</td>\n",
       "      <td>...</td>\n",
       "      <td>95216.0</td>\n",
       "      <td>172768.0</td>\n",
       "      <td>22834.0</td>\n",
       "      <td>458806.0</td>\n",
       "      <td>207234.0</td>\n",
       "      <td>25772.0</td>\n",
       "      <td>40274.0</td>\n",
       "      <td>34035.0</td>\n",
       "      <td>41726.0</td>\n",
       "      <td>527103.0</td>\n",
       "    </tr>\n",
       "  </tbody>\n",
       "</table>\n",
       "<p>5 rows × 76 columns</p>\n",
       "</div>"
      ],
      "text/plain": [
       "       country_id  league_id     season  stage       date  match_api_id  \\\n",
       "id                                                                        \n",
       "25975       24558      24558  2015/2016      9 2015-09-22       1992091   \n",
       "25976       24558      24558  2015/2016      9 2015-09-23       1992092   \n",
       "25977       24558      24558  2015/2016      9 2015-09-23       1992093   \n",
       "25978       24558      24558  2015/2016      9 2015-09-22       1992094   \n",
       "25979       24558      24558  2015/2016      9 2015-09-23       1992095   \n",
       "\n",
       "       home_team_api_id  away_team_api_id  home_team_goal  away_team_goal  \\\n",
       "id                                                                          \n",
       "25975             10190             10191               1               0   \n",
       "25976              9824             10199               1               2   \n",
       "25977              9956             10179               2               0   \n",
       "25978              7896             10243               0               0   \n",
       "25979             10192              9931               4               3   \n",
       "\n",
       "            ...        away_player_2  away_player_3  away_player_4  \\\n",
       "id          ...                                                      \n",
       "25975       ...             563066.0         8800.0        67304.0   \n",
       "25976       ...             114792.0       150007.0       178119.0   \n",
       "25977       ...              67349.0       202663.0        32597.0   \n",
       "25978       ...             121080.0       197757.0       260964.0   \n",
       "25979       ...              95216.0       172768.0        22834.0   \n",
       "\n",
       "       away_player_5  away_player_6  away_player_7  away_player_8  \\\n",
       "id                                                                  \n",
       "25975       158253.0       133126.0       186524.0        93223.0   \n",
       "25976        27232.0       570830.0       260708.0       201704.0   \n",
       "25977       114794.0       188114.0        25840.0       482200.0   \n",
       "25978       231614.0       113235.0        41116.0       462608.0   \n",
       "25979       458806.0       207234.0        25772.0        40274.0   \n",
       "\n",
       "       away_player_9  away_player_10  away_player_11  \n",
       "id                                                    \n",
       "25975       121115.0        232110.0        289732.0  \n",
       "25976        36382.0         34082.0         95257.0  \n",
       "25977        95230.0        451335.0        275122.0  \n",
       "25978        42262.0         92252.0        194532.0  \n",
       "25979        34035.0         41726.0        527103.0  \n",
       "\n",
       "[5 rows x 76 columns]"
      ]
     },
     "execution_count": 130,
     "metadata": {},
     "output_type": "execute_result"
    }
   ],
   "source": [
    "match_df_copy.tail(5)"
   ]
  },
  {
   "cell_type": "code",
   "execution_count": 129,
   "metadata": {},
   "outputs": [
    {
     "data": {
      "image/png": "[encoded data removed]",
      "text/plain": [
       "<Figure size 1080x1080 with 16 Axes>"
      ]
     },
     "metadata": {
      "needs_background": "light"
     },
     "output_type": "display_data"
    }
   ],
   "source": [
    "# Continue to explore the data to address your additional research\n",
    "#   questions. Add more headers as needed if you have more questions to\n",
    "#   investigate.\n",
    "cols = ['home_team_api_id','away_team_api_id','home_team_goal','away_team_goal']\n",
    "pd.plotting.scatter_matrix(match_df_copy[cols], figsize=(15,15));\n",
    "\n",
    "# plot the heatmap\n",
    "#sb.heatmap(corr, \n",
    "#        xticklabels=corr.columns,\n",
    "#        yticklabels=corr.columns)"
   ]
  },
  {
   "cell_type": "markdown",
   "metadata": {},
   "source": [
    "<a id='conclusions'></a>\n",
    "## Conclusions\n",
    "\n",
    "> **Tip**: Finally, summarize your findings and the results that have been performed. Make sure that you are clear with regards to the limitations of your exploration. If you haven't done any statistical tests, do not imply any statistical conclusions. And make sure you avoid implying causation from correlation!\n",
    "\n",
    "> **Tip**: Once you are satisfied with your work here, check over your report to make sure that it is satisfies all the areas of the rubric (found on the project submission page at the end of the lesson). You should also probably remove all of the \"Tips\" like this one so that the presentation is as polished as possible.\n",
    "\n",
    "## Submitting your Project \n",
    "\n",
    "> Before you submit your project, you need to create a .html or .pdf version of this notebook in the workspace here. To do that, run the code cell below. If it worked correctly, you should get a return code of 0, and you should see the generated .html file in the workspace directory (click on the orange Jupyter icon in the upper left).\n",
    "\n",
    "> Alternatively, you can download this report as .html via the **File** > **Download as** submenu, and then manually upload it into the workspace directory by clicking on the orange Jupyter icon in the upper left, then using the Upload button.\n",
    "\n",
    "> Once you've done this, you can submit your project by clicking on the \"Submit Project\" button in the lower right here. This will create and submit a zip file with this .ipynb doc and the .html or .pdf version you created. Congratulations!"
   ]
  },
  {
   "cell_type": "code",
   "execution_count": 25,
   "metadata": {},
   "outputs": [],
   "source": [
    "#from subprocess import call\n",
    "#call(['python', '-m', 'nbconvert', 'Investigate_a_Dataset.ipynb'])"
   ]
  }
 ],
 "metadata": {
  "kernelspec": {
   "display_name": "Python 3",
   "language": "python",
   "name": "python3"
  },
  "language_info": {
   "codemirror_mode": {
    "name": "ipython",
    "version": 3
   },
   "file_extension": ".py",
   "mimetype": "text/x-python",
   "name": "python",
   "nbconvert_exporter": "python",
   "pygments_lexer": "ipython3",
   "version": "3.7.3"
  }
 },
 "nbformat": 4,
 "nbformat_minor": 2
}
