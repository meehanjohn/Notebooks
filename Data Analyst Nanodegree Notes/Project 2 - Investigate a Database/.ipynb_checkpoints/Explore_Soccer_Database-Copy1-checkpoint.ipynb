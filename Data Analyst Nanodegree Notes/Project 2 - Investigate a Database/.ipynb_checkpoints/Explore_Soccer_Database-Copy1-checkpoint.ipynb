{
 "cells": [
  {
   "cell_type": "markdown",
   "metadata": {},
   "source": [
    "# Project: Exploring a Soccer Match Database\n",
    "\n",
    "## Table of Contents\n",
    "<ul>\n",
    "<li><a href=\"#intro\">Introduction</a></li>\n",
    "<li><a href=\"#wrangling\">Data Wrangling</a></li>\n",
    "<li><a href=\"#eda\">Exploratory Data Analysis</a></li>\n",
    "<li><a href=\"#conclusions\">Conclusions</a></li>\n",
    "</ul>"
   ]
  },
  {
   "cell_type": "markdown",
   "metadata": {},
   "source": [
    "<a id='intro'></a>\n",
    "## Introduction\n",
    "\n",
    "I have chosen to analyze the [European Soccer Database](https://www.kaggle.com/hugomathien/soccer). The database includes approximately 26,000 records of soccer matches, including team layout and game outcome. There is also data regarding player and team attributes (taken from the FIFA video games), and values for betting odds on each game across several online gambling platforms.\n",
    "\n",
    "My focus will be on the players making up each team, team formations, and their respective impacts on team performance. Through this project, I will attempt to draw conclusions about factors influencing team performance based on the available data.\n",
    "\n",
    "I chose this database and to focus on performance because of the connection with my work background. I am interested in improving the performance of a manufacturing organization which produces only custom made-to-order products. I would like to draw a parallel between analyzing team sport performance and team business performance."
   ]
  },
  {
   "cell_type": "markdown",
   "metadata": {},
   "source": [
    "### Importing\n",
    "\n",
    "First I import the packages relevant for this project:"
   ]
  },
  {
   "cell_type": "code",
   "execution_count": 1,
   "metadata": {},
   "outputs": [
    {
     "data": {
      "text/html": [
       "<style>\n",
       ".output {\n",
       "    align-items: center;\n",
       "}\n",
       "</style>"
      ],
      "text/plain": [
       "<IPython.core.display.HTML object>"
      ]
     },
     "execution_count": 1,
     "metadata": {},
     "output_type": "execute_result"
    }
   ],
   "source": [
    "from IPython.display import display, HTML\n",
    "import sqlite3                                       # to read the raw database file in .sqlite format\n",
    "import pandas as pd                                  # for creating and modifying dataframes\n",
    "import matplotlib\n",
    "import matplotlib.pyplot as plt                      # for data visualization\n",
    "import seaborn as sb                                 # to clean up visualizations\n",
    "import os                                            # to locate files within the directory\n",
    "import numpy as np                                   # for numpy arrays, general math functions\n",
    "from sklearn import preprocessing                    # for scaling data\n",
    "from sklearn.neighbors import KNeighborsClassifier   # for classifying team formations\n",
    "import matplotlib.pyplot as plt\n",
    "\n",
    "CSS = \"\"\"\n",
    ".output {\n",
    "    align-items: center;\n",
    "}\n",
    "\"\"\"\n",
    "HTML('<style>{}</style>'.format(CSS))"
   ]
  },
  {
   "cell_type": "markdown",
   "metadata": {},
   "source": [
    "<a id='wrangling'></a>\n",
    "## Data Wrangling\n",
    "\n",
    "The file comes in .sqlite format, so it must be unpacked and imported into dataframes to be manipulated. Below, I will check out what data is included with each table and begin to shape the data so that it is useful for my analysis.\n",
    "\n",
    "### General Properties"
   ]
  },
  {
   "cell_type": "code",
   "execution_count": 2,
   "metadata": {},
   "outputs": [
    {
     "data": {
      "text/html": [
       "<div>\n",
       "<style scoped>\n",
       "    .dataframe tbody tr th:only-of-type {\n",
       "        vertical-align: middle;\n",
       "    }\n",
       "\n",
       "    .dataframe tbody tr th {\n",
       "        vertical-align: top;\n",
       "    }\n",
       "\n",
       "    .dataframe thead th {\n",
       "        text-align: right;\n",
       "    }\n",
       "</style>\n",
       "<table border=\"1\" class=\"dataframe\">\n",
       "  <thead>\n",
       "    <tr style=\"text-align: right;\">\n",
       "      <th></th>\n",
       "      <th>type</th>\n",
       "      <th>name</th>\n",
       "      <th>tbl_name</th>\n",
       "      <th>rootpage</th>\n",
       "      <th>sql</th>\n",
       "    </tr>\n",
       "  </thead>\n",
       "  <tbody>\n",
       "    <tr>\n",
       "      <th>0</th>\n",
       "      <td>table</td>\n",
       "      <td>sqlite_sequence</td>\n",
       "      <td>sqlite_sequence</td>\n",
       "      <td>4</td>\n",
       "      <td>CREATE TABLE sqlite_sequence(name,seq)</td>\n",
       "    </tr>\n",
       "    <tr>\n",
       "      <th>1</th>\n",
       "      <td>table</td>\n",
       "      <td>Player_Attributes</td>\n",
       "      <td>Player_Attributes</td>\n",
       "      <td>11</td>\n",
       "      <td>CREATE TABLE \"Player_Attributes\" (\\n\\t`id`\\tIN...</td>\n",
       "    </tr>\n",
       "    <tr>\n",
       "      <th>2</th>\n",
       "      <td>table</td>\n",
       "      <td>Player</td>\n",
       "      <td>Player</td>\n",
       "      <td>14</td>\n",
       "      <td>CREATE TABLE `Player` (\\n\\t`id`\\tINTEGER PRIMA...</td>\n",
       "    </tr>\n",
       "    <tr>\n",
       "      <th>3</th>\n",
       "      <td>table</td>\n",
       "      <td>Match</td>\n",
       "      <td>Match</td>\n",
       "      <td>18</td>\n",
       "      <td>CREATE TABLE `Match` (\\n\\t`id`\\tINTEGER PRIMAR...</td>\n",
       "    </tr>\n",
       "    <tr>\n",
       "      <th>4</th>\n",
       "      <td>table</td>\n",
       "      <td>League</td>\n",
       "      <td>League</td>\n",
       "      <td>24</td>\n",
       "      <td>CREATE TABLE `League` (\\n\\t`id`\\tINTEGER PRIMA...</td>\n",
       "    </tr>\n",
       "    <tr>\n",
       "      <th>5</th>\n",
       "      <td>table</td>\n",
       "      <td>Country</td>\n",
       "      <td>Country</td>\n",
       "      <td>26</td>\n",
       "      <td>CREATE TABLE `Country` (\\n\\t`id`\\tINTEGER PRIM...</td>\n",
       "    </tr>\n",
       "    <tr>\n",
       "      <th>6</th>\n",
       "      <td>table</td>\n",
       "      <td>Team</td>\n",
       "      <td>Team</td>\n",
       "      <td>29</td>\n",
       "      <td>CREATE TABLE \"Team\" (\\n\\t`id`\\tINTEGER PRIMARY...</td>\n",
       "    </tr>\n",
       "    <tr>\n",
       "      <th>7</th>\n",
       "      <td>table</td>\n",
       "      <td>Team_Attributes</td>\n",
       "      <td>Team_Attributes</td>\n",
       "      <td>2</td>\n",
       "      <td>CREATE TABLE `Team_Attributes` (\\n\\t`id`\\tINTE...</td>\n",
       "    </tr>\n",
       "  </tbody>\n",
       "</table>\n",
       "</div>"
      ],
      "text/plain": [
       "    type               name           tbl_name  rootpage  \\\n",
       "0  table    sqlite_sequence    sqlite_sequence         4   \n",
       "1  table  Player_Attributes  Player_Attributes        11   \n",
       "2  table             Player             Player        14   \n",
       "3  table              Match              Match        18   \n",
       "4  table             League             League        24   \n",
       "5  table            Country            Country        26   \n",
       "6  table               Team               Team        29   \n",
       "7  table    Team_Attributes    Team_Attributes         2   \n",
       "\n",
       "                                                 sql  \n",
       "0             CREATE TABLE sqlite_sequence(name,seq)  \n",
       "1  CREATE TABLE \"Player_Attributes\" (\\n\\t`id`\\tIN...  \n",
       "2  CREATE TABLE `Player` (\\n\\t`id`\\tINTEGER PRIMA...  \n",
       "3  CREATE TABLE `Match` (\\n\\t`id`\\tINTEGER PRIMAR...  \n",
       "4  CREATE TABLE `League` (\\n\\t`id`\\tINTEGER PRIMA...  \n",
       "5  CREATE TABLE `Country` (\\n\\t`id`\\tINTEGER PRIM...  \n",
       "6  CREATE TABLE \"Team\" (\\n\\t`id`\\tINTEGER PRIMARY...  \n",
       "7  CREATE TABLE `Team_Attributes` (\\n\\t`id`\\tINTE...  "
      ]
     },
     "execution_count": 2,
     "metadata": {},
     "output_type": "execute_result"
    }
   ],
   "source": [
    "path = os.getcwd()                     # ensures that the full path is being used\n",
    "database = path + '\\\\database.sqlite'  # even though the file should be in the same folder\n",
    "\n",
    "con = sqlite3.connect(database)        # establish a connection with the database\n",
    "tables = pd.read_sql(                  # write a query to see all tables\n",
    "    \"\"\"\n",
    "    SELECT * FROM sqlite_master\n",
    "    WHERE type='table';\n",
    "    \"\"\",con=con)\n",
    "tables"
   ]
  },
  {
   "cell_type": "markdown",
   "metadata": {},
   "source": [
    "### Tables\n",
    "I know from reading the documentation provided with the database that the 2 `_Attributes` tables are based on data from the FIFA video games. I will not need them to support my analysis, so they will not be brought into dataframes.\n",
    "\n",
    "The "
   ]
  },
  {
   "cell_type": "code",
   "execution_count": 3,
   "metadata": {},
   "outputs": [
    {
     "name": "stdout",
     "output_type": "stream",
     "text": [
      "<class 'pandas.core.frame.DataFrame'>\n",
      "Int64Index: 11060 entries, 505942 to 39902\n",
      "Data columns (total 4 columns):\n",
      "player_name    11060 non-null object\n",
      "birthday       11060 non-null datetime64[ns]\n",
      "height         11060 non-null float64\n",
      "weight         11060 non-null int64\n",
      "dtypes: datetime64[ns](1), float64(1), int64(1), object(1)\n",
      "memory usage: 432.0+ KB\n"
     ]
    }
   ],
   "source": [
    "# write query to import player table\n",
    "player_df = pd.read_sql( \n",
    "    \"\"\"\n",
    "    SELECT player_api_id as id, player_name, birthday, height, weight \n",
    "    FROM Player;\n",
    "    \"\"\", con=con, index_col='id', parse_dates=['birthday'])\n",
    "\n",
    "# observe column names and datatypes\n",
    "player_df.info()         "
   ]
  },
  {
   "cell_type": "code",
   "execution_count": 4,
   "metadata": {
    "scrolled": true
   },
   "outputs": [
    {
     "name": "stdout",
     "output_type": "stream",
     "text": [
      "<class 'pandas.core.frame.DataFrame'>\n",
      "Int64Index: 11 entries, 1 to 24558\n",
      "Data columns (total 2 columns):\n",
      "country_id    11 non-null int64\n",
      "name          11 non-null object\n",
      "dtypes: int64(1), object(1)\n",
      "memory usage: 264.0+ bytes\n"
     ]
    }
   ],
   "source": [
    "# query to import league table\n",
    "league_df = pd.read_sql(\n",
    "    \"\"\"\n",
    "    SELECT * FROM League;\n",
    "    \"\"\", con=con, index_col='id')\n",
    "\n",
    "# observe column names and datatypes\n",
    "league_df.info()"
   ]
  },
  {
   "cell_type": "code",
   "execution_count": 5,
   "metadata": {},
   "outputs": [
    {
     "name": "stdout",
     "output_type": "stream",
     "text": [
      "<class 'pandas.core.frame.DataFrame'>\n",
      "Int64Index: 299 entries, 9987 to 7896\n",
      "Data columns (total 4 columns):\n",
      "id                  299 non-null int64\n",
      "team_fifa_api_id    288 non-null float64\n",
      "team_long_name      299 non-null object\n",
      "team_short_name     299 non-null object\n",
      "dtypes: float64(1), int64(1), object(2)\n",
      "memory usage: 11.7+ KB\n"
     ]
    }
   ],
   "source": [
    "team_df = pd.read_sql(\n",
    "    \"\"\"\n",
    "    SELECT * FROM team;\n",
    "    \"\"\", con=con, index_col='team_api_id')\n",
    "team_df.info()"
   ]
  },
  {
   "cell_type": "markdown",
   "metadata": {},
   "source": [
    "Because the `Match` table contains the majority of the data pertinent to my analysis, I will try to `JOIN` the other tables as early as possible so that I can drop everything that I don't need and avoid doing any more operations.\n",
    "\n",
    "First I pull the `Country` and `League` names directly in, using an `INNER JOIN` on their respective ID's.\n",
    "\n",
    "I also have the `%%time` magic called because this table is so large; I want to also keep track of how long operations take and attempt to remove unnecessary steps at the end."
   ]
  },
  {
   "cell_type": "code",
   "execution_count": 6,
   "metadata": {},
   "outputs": [
    {
     "name": "stdout",
     "output_type": "stream",
     "text": [
      "<class 'pandas.core.frame.DataFrame'>\n",
      "Int64Index: 25979 entries, 1 to 25979\n",
      "Columns: 114 entries, country_id to BSA\n",
      "dtypes: datetime64[ns](1), float64(96), int64(8), object(9)\n",
      "memory usage: 22.8+ MB\n"
     ]
    }
   ],
   "source": [
    "match_df = pd.read_sql(\n",
    "    \"\"\"\n",
    "    SELECT * FROM match;\n",
    "    \"\"\", con=con, index_col='id', parse_dates=['date'])\n",
    "\n",
    "match_df.info()"
   ]
  },
  {
   "cell_type": "markdown",
   "metadata": {},
   "source": [
    "One of the first issues I will need to tackle is reducing the amount of columns in this table. The above output shows that there are 114 columns, too many to be listed using `.info()`. I will need to print a list of the columns to take a look."
   ]
  },
  {
   "cell_type": "markdown",
   "metadata": {},
   "source": [
    "### Data Cleaning"
   ]
  },
  {
   "cell_type": "code",
   "execution_count": 7,
   "metadata": {},
   "outputs": [
    {
     "name": "stdout",
     "output_type": "stream",
     "text": [
      "0: country_id\n",
      "1: league_id\n",
      "2: season\n",
      "3: stage\n",
      "4: date\n",
      "5: match_api_id\n",
      "6: home_team_api_id\n",
      "7: away_team_api_id\n",
      "8: home_team_goal\n",
      "9: away_team_goal\n",
      "10: home_player_X1\n",
      "11: home_player_X2\n",
      "12: home_player_X3\n",
      "13: home_player_X4\n",
      "14: home_player_X5\n",
      "15: home_player_X6\n",
      "16: home_player_X7\n",
      "17: home_player_X8\n",
      "18: home_player_X9\n",
      "19: home_player_X10\n",
      "20: home_player_X11\n",
      "21: away_player_X1\n",
      "22: away_player_X2\n",
      "23: away_player_X3\n",
      "24: away_player_X4\n",
      "25: away_player_X5\n",
      "26: away_player_X6\n",
      "27: away_player_X7\n",
      "28: away_player_X8\n",
      "29: away_player_X9\n",
      "30: away_player_X10\n",
      "31: away_player_X11\n",
      "32: home_player_Y1\n",
      "33: home_player_Y2\n",
      "34: home_player_Y3\n",
      "35: home_player_Y4\n",
      "36: home_player_Y5\n",
      "37: home_player_Y6\n",
      "38: home_player_Y7\n",
      "39: home_player_Y8\n",
      "40: home_player_Y9\n",
      "41: home_player_Y10\n",
      "42: home_player_Y11\n",
      "43: away_player_Y1\n",
      "44: away_player_Y2\n",
      "45: away_player_Y3\n",
      "46: away_player_Y4\n",
      "47: away_player_Y5\n",
      "48: away_player_Y6\n",
      "49: away_player_Y7\n",
      "50: away_player_Y8\n",
      "51: away_player_Y9\n",
      "52: away_player_Y10\n",
      "53: away_player_Y11\n",
      "54: home_player_1\n",
      "55: home_player_2\n",
      "56: home_player_3\n",
      "57: home_player_4\n",
      "58: home_player_5\n",
      "59: home_player_6\n",
      "60: home_player_7\n",
      "61: home_player_8\n",
      "62: home_player_9\n",
      "63: home_player_10\n",
      "64: home_player_11\n",
      "65: away_player_1\n",
      "66: away_player_2\n",
      "67: away_player_3\n",
      "68: away_player_4\n",
      "69: away_player_5\n",
      "70: away_player_6\n",
      "71: away_player_7\n",
      "72: away_player_8\n",
      "73: away_player_9\n",
      "74: away_player_10\n",
      "75: away_player_11\n",
      "76: goal\n",
      "77: shoton\n",
      "78: shotoff\n",
      "79: foulcommit\n",
      "80: card\n",
      "81: cross\n",
      "82: corner\n",
      "83: possession\n",
      "84: B365H\n",
      "85: B365D\n",
      "86: B365A\n",
      "87: BWH\n",
      "88: BWD\n",
      "89: BWA\n",
      "90: IWH\n",
      "91: IWD\n",
      "92: IWA\n",
      "93: LBH\n",
      "94: LBD\n",
      "95: LBA\n",
      "96: PSH\n",
      "97: PSD\n",
      "98: PSA\n",
      "99: WHH\n",
      "100: WHD\n",
      "101: WHA\n",
      "102: SJH\n",
      "103: SJD\n",
      "104: SJA\n",
      "105: VCH\n",
      "106: VCD\n",
      "107: VCA\n",
      "108: GBH\n",
      "109: GBD\n",
      "110: GBA\n",
      "111: BSH\n",
      "112: BSD\n",
      "113: BSA\n"
     ]
    }
   ],
   "source": [
    "for num, column in enumerate(list(match_df)):\n",
    "    print('%i: %s' % (num,column))"
   ]
  },
  {
   "cell_type": "markdown",
   "metadata": {},
   "source": [
    "It looks like I will want to lose all of the columns after 75, because they contain metrics that I am not interested in for this analysis. In this case, I find it much easier to lose the columns within Pandas rather than SQL, because I want to use a numbered range."
   ]
  },
  {
   "cell_type": "code",
   "execution_count": 8,
   "metadata": {
    "scrolled": true
   },
   "outputs": [
    {
     "name": "stdout",
     "output_type": "stream",
     "text": [
      "<class 'pandas.core.frame.DataFrame'>\n",
      "Int64Index: 25979 entries, 1 to 25979\n",
      "Data columns (total 76 columns):\n",
      "country_id          25979 non-null int64\n",
      "league_id           25979 non-null int64\n",
      "season              25979 non-null object\n",
      "stage               25979 non-null int64\n",
      "date                25979 non-null datetime64[ns]\n",
      "match_api_id        25979 non-null int64\n",
      "home_team_api_id    25979 non-null int64\n",
      "away_team_api_id    25979 non-null int64\n",
      "home_team_goal      25979 non-null int64\n",
      "away_team_goal      25979 non-null int64\n",
      "home_player_X1      24158 non-null float64\n",
      "home_player_X2      24158 non-null float64\n",
      "home_player_X3      24147 non-null float64\n",
      "home_player_X4      24147 non-null float64\n",
      "home_player_X5      24147 non-null float64\n",
      "home_player_X6      24147 non-null float64\n",
      "home_player_X7      24147 non-null float64\n",
      "home_player_X8      24147 non-null float64\n",
      "home_player_X9      24147 non-null float64\n",
      "home_player_X10     24147 non-null float64\n",
      "home_player_X11     24147 non-null float64\n",
      "away_player_X1      24147 non-null float64\n",
      "away_player_X2      24147 non-null float64\n",
      "away_player_X3      24147 non-null float64\n",
      "away_player_X4      24147 non-null float64\n",
      "away_player_X5      24147 non-null float64\n",
      "away_player_X6      24147 non-null float64\n",
      "away_player_X7      24147 non-null float64\n",
      "away_player_X8      24147 non-null float64\n",
      "away_player_X9      24146 non-null float64\n",
      "away_player_X10     24146 non-null float64\n",
      "away_player_X11     24140 non-null float64\n",
      "home_player_Y1      24158 non-null float64\n",
      "home_player_Y2      24158 non-null float64\n",
      "home_player_Y3      24147 non-null float64\n",
      "home_player_Y4      24147 non-null float64\n",
      "home_player_Y5      24147 non-null float64\n",
      "home_player_Y6      24147 non-null float64\n",
      "home_player_Y7      24147 non-null float64\n",
      "home_player_Y8      24147 non-null float64\n",
      "home_player_Y9      24147 non-null float64\n",
      "home_player_Y10     24147 non-null float64\n",
      "home_player_Y11     24147 non-null float64\n",
      "away_player_Y1      24147 non-null float64\n",
      "away_player_Y2      24147 non-null float64\n",
      "away_player_Y3      24147 non-null float64\n",
      "away_player_Y4      24147 non-null float64\n",
      "away_player_Y5      24147 non-null float64\n",
      "away_player_Y6      24147 non-null float64\n",
      "away_player_Y7      24147 non-null float64\n",
      "away_player_Y8      24147 non-null float64\n",
      "away_player_Y9      24146 non-null float64\n",
      "away_player_Y10     24146 non-null float64\n",
      "away_player_Y11     24140 non-null float64\n",
      "home_player_1       24755 non-null float64\n",
      "home_player_2       24664 non-null float64\n",
      "home_player_3       24698 non-null float64\n",
      "home_player_4       24656 non-null float64\n",
      "home_player_5       24663 non-null float64\n",
      "home_player_6       24654 non-null float64\n",
      "home_player_7       24752 non-null float64\n",
      "home_player_8       24670 non-null float64\n",
      "home_player_9       24706 non-null float64\n",
      "home_player_10      24543 non-null float64\n",
      "home_player_11      24424 non-null float64\n",
      "away_player_1       24745 non-null float64\n",
      "away_player_2       24701 non-null float64\n",
      "away_player_3       24686 non-null float64\n",
      "away_player_4       24658 non-null float64\n",
      "away_player_5       24644 non-null float64\n",
      "away_player_6       24666 non-null float64\n",
      "away_player_7       24744 non-null float64\n",
      "away_player_8       24638 non-null float64\n",
      "away_player_9       24651 non-null float64\n",
      "away_player_10      24538 non-null float64\n",
      "away_player_11      24425 non-null float64\n",
      "dtypes: datetime64[ns](1), float64(66), int64(8), object(1)\n",
      "memory usage: 15.3+ MB\n"
     ]
    }
   ],
   "source": [
    "# Drop columns by index\n",
    "match_df = match_df[match_df.columns[:76]]\n",
    "match_df.info()"
   ]
  },
  {
   "cell_type": "markdown",
   "metadata": {},
   "source": [
    "Now I will convert the other column values from ID numbers to their respective string values. I still need to do this for the home and away team names, but it was already tackled in the SQL `JOIN` earlier for the 'Country' and 'League' columns. All I need to do is drop those ID columns as well."
   ]
  },
  {
   "cell_type": "markdown",
   "metadata": {},
   "source": [
    "From looking at the remaining columns, I can see that many of the rows contain null values.\n",
    "\n",
    "Below I will drop any rows containing null values using the `dropna` function."
   ]
  },
  {
   "cell_type": "code",
   "execution_count": 9,
   "metadata": {
    "scrolled": true
   },
   "outputs": [],
   "source": [
    "match_df.dropna(how='any',inplace=True)"
   ]
  },
  {
   "cell_type": "code",
   "execution_count": 10,
   "metadata": {
    "scrolled": true
   },
   "outputs": [
    {
     "name": "stdout",
     "output_type": "stream",
     "text": [
      "<class 'pandas.core.frame.DataFrame'>\n",
      "Int64Index: 21361 entries, 146 to 25979\n",
      "Data columns (total 76 columns):\n",
      "country_id          21361 non-null int64\n",
      "league_id           21361 non-null int64\n",
      "season              21361 non-null object\n",
      "stage               21361 non-null int64\n",
      "date                21361 non-null datetime64[ns]\n",
      "match_api_id        21361 non-null int64\n",
      "home_team_api_id    21361 non-null int64\n",
      "away_team_api_id    21361 non-null int64\n",
      "home_team_goal      21361 non-null int64\n",
      "away_team_goal      21361 non-null int64\n",
      "home_player_X1      21361 non-null float64\n",
      "home_player_X2      21361 non-null float64\n",
      "home_player_X3      21361 non-null float64\n",
      "home_player_X4      21361 non-null float64\n",
      "home_player_X5      21361 non-null float64\n",
      "home_player_X6      21361 non-null float64\n",
      "home_player_X7      21361 non-null float64\n",
      "home_player_X8      21361 non-null float64\n",
      "home_player_X9      21361 non-null float64\n",
      "home_player_X10     21361 non-null float64\n",
      "home_player_X11     21361 non-null float64\n",
      "away_player_X1      21361 non-null float64\n",
      "away_player_X2      21361 non-null float64\n",
      "away_player_X3      21361 non-null float64\n",
      "away_player_X4      21361 non-null float64\n",
      "away_player_X5      21361 non-null float64\n",
      "away_player_X6      21361 non-null float64\n",
      "away_player_X7      21361 non-null float64\n",
      "away_player_X8      21361 non-null float64\n",
      "away_player_X9      21361 non-null float64\n",
      "away_player_X10     21361 non-null float64\n",
      "away_player_X11     21361 non-null float64\n",
      "home_player_Y1      21361 non-null float64\n",
      "home_player_Y2      21361 non-null float64\n",
      "home_player_Y3      21361 non-null float64\n",
      "home_player_Y4      21361 non-null float64\n",
      "home_player_Y5      21361 non-null float64\n",
      "home_player_Y6      21361 non-null float64\n",
      "home_player_Y7      21361 non-null float64\n",
      "home_player_Y8      21361 non-null float64\n",
      "home_player_Y9      21361 non-null float64\n",
      "home_player_Y10     21361 non-null float64\n",
      "home_player_Y11     21361 non-null float64\n",
      "away_player_Y1      21361 non-null float64\n",
      "away_player_Y2      21361 non-null float64\n",
      "away_player_Y3      21361 non-null float64\n",
      "away_player_Y4      21361 non-null float64\n",
      "away_player_Y5      21361 non-null float64\n",
      "away_player_Y6      21361 non-null float64\n",
      "away_player_Y7      21361 non-null float64\n",
      "away_player_Y8      21361 non-null float64\n",
      "away_player_Y9      21361 non-null float64\n",
      "away_player_Y10     21361 non-null float64\n",
      "away_player_Y11     21361 non-null float64\n",
      "home_player_1       21361 non-null float64\n",
      "home_player_2       21361 non-null float64\n",
      "home_player_3       21361 non-null float64\n",
      "home_player_4       21361 non-null float64\n",
      "home_player_5       21361 non-null float64\n",
      "home_player_6       21361 non-null float64\n",
      "home_player_7       21361 non-null float64\n",
      "home_player_8       21361 non-null float64\n",
      "home_player_9       21361 non-null float64\n",
      "home_player_10      21361 non-null float64\n",
      "home_player_11      21361 non-null float64\n",
      "away_player_1       21361 non-null float64\n",
      "away_player_2       21361 non-null float64\n",
      "away_player_3       21361 non-null float64\n",
      "away_player_4       21361 non-null float64\n",
      "away_player_5       21361 non-null float64\n",
      "away_player_6       21361 non-null float64\n",
      "away_player_7       21361 non-null float64\n",
      "away_player_8       21361 non-null float64\n",
      "away_player_9       21361 non-null float64\n",
      "away_player_10      21361 non-null float64\n",
      "away_player_11      21361 non-null float64\n",
      "dtypes: datetime64[ns](1), float64(66), int64(8), object(1)\n",
      "memory usage: 12.5+ MB\n"
     ]
    }
   ],
   "source": [
    "match_df.info()"
   ]
  },
  {
   "cell_type": "markdown",
   "metadata": {},
   "source": [
    "We can now see that each of the columns contains the same number of non-null entries, so there are no empty fields. There are still over 21,000 records even after being selective with the data, which should be plenty for this analysis."
   ]
  },
  {
   "cell_type": "markdown",
   "metadata": {},
   "source": [
    "Now I have gotten from the original 116 columns down to 76, which is still not quite easily readable. This is partially because both teams have 11 players, each of which has 3 dedicated columns in this table:\n",
    "- `home/away_player_N` - the API ID of the player in that position\n",
    "- `home/away_player_XN`- the 'X' coordinate position of the player on the field\n",
    "- `home/away_player_YN`- the 'Y' coordinate position of the player on the field\n",
    "\n",
    "To me, it makes more sense to condense these 3 fields for each player into a dictionary which specifices the `X,Y` coordinate set of the player's location:\n",
    "```\n",
    "{player: (x_coord, y_coord)}\n",
    "```\n",
    "\n",
    "To begin, I make a list of all of the player-related columns (they all have the word 'player' in the name)."
   ]
  },
  {
   "cell_type": "code",
   "execution_count": 11,
   "metadata": {
    "scrolled": true
   },
   "outputs": [
    {
     "name": "stdout",
     "output_type": "stream",
     "text": [
      "0: country_id\n",
      "1: league_id\n",
      "2: season\n",
      "3: stage\n",
      "4: date\n",
      "5: match_api_id\n",
      "6: home_team_api_id\n",
      "7: away_team_api_id\n",
      "8: home_team_goal\n",
      "9: away_team_goal\n",
      "10: home_player_X1\n",
      "11: home_player_X2\n",
      "12: home_player_X3\n",
      "13: home_player_X4\n",
      "14: home_player_X5\n",
      "15: home_player_X6\n",
      "16: home_player_X7\n",
      "17: home_player_X8\n",
      "18: home_player_X9\n",
      "19: home_player_X10\n",
      "20: home_player_X11\n",
      "21: away_player_X1\n",
      "22: away_player_X2\n",
      "23: away_player_X3\n",
      "24: away_player_X4\n",
      "25: away_player_X5\n",
      "26: away_player_X6\n",
      "27: away_player_X7\n",
      "28: away_player_X8\n",
      "29: away_player_X9\n",
      "30: away_player_X10\n",
      "31: away_player_X11\n",
      "32: home_player_Y1\n",
      "33: home_player_Y2\n",
      "34: home_player_Y3\n",
      "35: home_player_Y4\n",
      "36: home_player_Y5\n",
      "37: home_player_Y6\n",
      "38: home_player_Y7\n",
      "39: home_player_Y8\n",
      "40: home_player_Y9\n",
      "41: home_player_Y10\n",
      "42: home_player_Y11\n",
      "43: away_player_Y1\n",
      "44: away_player_Y2\n",
      "45: away_player_Y3\n",
      "46: away_player_Y4\n",
      "47: away_player_Y5\n",
      "48: away_player_Y6\n",
      "49: away_player_Y7\n",
      "50: away_player_Y8\n",
      "51: away_player_Y9\n",
      "52: away_player_Y10\n",
      "53: away_player_Y11\n",
      "54: home_player_1\n",
      "55: home_player_2\n",
      "56: home_player_3\n",
      "57: home_player_4\n",
      "58: home_player_5\n",
      "59: home_player_6\n",
      "60: home_player_7\n",
      "61: home_player_8\n",
      "62: home_player_9\n",
      "63: home_player_10\n",
      "64: home_player_11\n",
      "65: away_player_1\n",
      "66: away_player_2\n",
      "67: away_player_3\n",
      "68: away_player_4\n",
      "69: away_player_5\n",
      "70: away_player_6\n",
      "71: away_player_7\n",
      "72: away_player_8\n",
      "73: away_player_9\n",
      "74: away_player_10\n",
      "75: away_player_11\n"
     ]
    }
   ],
   "source": [
    "for num, column in enumerate(list(match_df)):\n",
    "    print('%i: %s' % (num,column))"
   ]
  },
  {
   "cell_type": "markdown",
   "metadata": {},
   "source": [
    "Now it seems that we have a manageable number of columns, and we can be confident that each row contains all of the relevant information."
   ]
  },
  {
   "cell_type": "markdown",
   "metadata": {},
   "source": [
    "<a id='eda'></a>\n",
    "## Exploratory Data Analysis\n",
    "\n",
    "> **Tip**: Now that you've trimmed and cleaned your data, you're ready to move on to exploration. Compute statistics and create visualizations with the goal of addressing the research questions that you posed in the Introduction section. It is recommended that you be systematic with your approach. Look at one variable at a time, and then follow it up by looking at relationships between variables.\n",
    "\n",
    "### Research Question 1: Which team formations are the most effective?"
   ]
  },
  {
   "cell_type": "markdown",
   "metadata": {},
   "source": [
    "Because each match comes with the position of each player on the field, both home and away, it begs the question: is the a truly optimal formation? \n",
    "\n",
    "Surely coaches decide on formations based on their team's strengths and strategy, but perhaps some objective data could help drive better decision-making.\n",
    "\n",
    "**In order to attempt to answer this question, I will need to:**\n",
    "1. Define how team formations will be classified\n",
    "2. Classify both teams' positions for each match\n",
    "3. Decide on a variable to quantify 'success'\n",
    "4. Determine if any position is correlated with success"
   ]
  },
  {
   "attachments": {
    "4-4-2-new.jpg": {
     "image/jpeg": "[encoded data removed]"
    }
   },
   "cell_type": "markdown",
   "metadata": {},
   "source": [
    "**1. Define the Classification of Team Formations**\n",
    "\n",
    "Although I grew up playing soccer, I have little intrinsic understanding of how team formations are defined or why. For the purposes of this exercise, I have sourced definitions of 8 popular team formations from [this article from \"Soccer Training Guide\"](http://www.soccer-training-guide.com/soccer-formations.html).\n",
    "\n",
    "\n",
    "**Example: 4-4-2 Formation:**\n",
    "![4-4-2 Formation](attachment:4-4-2-new.jpg)"
   ]
  },
  {
   "cell_type": "markdown",
   "metadata": {},
   "source": [
    "As a disclaimer, I built these formation arrays somewhat arbitrarily by looking at how the team positions were defined in the database, and picking points to align with how the formation was described. In the future, this could be scrutinized a bit more.\n",
    "\n",
    "I will go into more detail below, but I decided to simplify the classification process by converting each player position into a magnitude"
   ]
  },
  {
   "cell_type": "code",
   "execution_count": 12,
   "metadata": {},
   "outputs": [
    {
     "data": {
      "text/plain": [
       "array([ 1.41421356,  3.60555128,  5.        ,  6.70820393,  8.54400375,\n",
       "        7.28010989,  8.06225775,  9.21954446, 10.63014581, 10.77032961,\n",
       "       11.66190379])"
      ]
     },
     "execution_count": 12,
     "metadata": {},
     "output_type": "execute_result"
    }
   ],
   "source": [
    "# define popular team formation arrays\n",
    "pop_form_arrays = {1:['4-4-2',[1,1],[2,3],[4,3],[6,3],[8,3],[2,7],[4,7],[6,7],[8,7],[4,10],[6,10]],\n",
    "                   2:['4-3-3',[1,1],[2,3],[4,3],[6,3],[8,3],[3,7],[5,7],[7,7],[3,10],[5,10],[7,10]],\n",
    "                   3:['3-4-3',[1,1],[3,3],[5,3],[7,3],[2,7],[4,7],[6,7],[8,7],[3,10],[5,10],[7,10]],\n",
    "                   4:['3-6-1',[1,1],[3,3],[5,3],[7,3],[1,7],[3,7],[4,7],[6,7],[7,7],[9,7],[5,9]],\n",
    "                   5:['3-4-2-1',[1,1],[3,3],[5,3],[7,3],[2,7],[4,7],[6,7],[8,7],[4,9],[6,9],[5,10]],\n",
    "                   6:['4-5-1',[1,1],[2,3],[4,3],[6,3],[8,3],[1,7],[3,7],[5,7],[7,7],[9,7],[5,10]],\n",
    "                   7:['5-2-2-1',[1,1],[1,3],[3,3],[5,3],[7,3],[9,3],[4,5],[6,5],[4,7],[6,7],[5,11]],\n",
    "                   8:['3-5-2',[1,1],[3,3],[5,3],[7,3],[1,7],[3,7],[5,7],[7,7],[9,7],[4,10],[6,10]]}\n",
    "\n",
    "# name the dataframe series\n",
    "cols = ['form_name','mag_1','mag_2','mag_3','mag_4','mag_5','mag_6','mag_7','mag_8','mag_9','mag_10','mag_11']\n",
    "# transpose to get it into the proper format for analysis\n",
    "# each formation should be a 'sample', each position magnitude should be a variable\n",
    "pop_form_df = pd.DataFrame(data=pop_form_arrays).T\n",
    "pop_form_df.columns = cols\n",
    "\n",
    "# 'normalize', or find the magnitude of, each coordinate point\n",
    "pop_form_mags = pop_form_df[cols[1:12]].applymap(lambda x: np.linalg.norm(x))\n",
    "pop_form_mags = pop_form_mags.values\n",
    "# check the output\n",
    "pop_form_mags[0]"
   ]
  },
  {
   "cell_type": "markdown",
   "metadata": {},
   "source": [
    "**2. Classify Both Team Formations**\n",
    "\n",
    "Now I will create a copy of `match_df` in order to manipulate the data into a format that can be classified. With the copied version, I can remove any remaining fields that are not necessary for formation classification.\n",
    "\n",
    "At the end I will merge the classifications back into the original `match_df` for the purpose of drawing conclusions."
   ]
  },
  {
   "cell_type": "code",
   "execution_count": 13,
   "metadata": {
    "scrolled": true
   },
   "outputs": [
    {
     "name": "stdout",
     "output_type": "stream",
     "text": [
      "<class 'pandas.core.frame.DataFrame'>\n",
      "Int64Index: 21361 entries, 146 to 25979\n",
      "Data columns (total 45 columns):\n",
      "match_api_id       21361 non-null int64\n",
      "home_player_X1     21361 non-null float64\n",
      "home_player_X2     21361 non-null float64\n",
      "home_player_X3     21361 non-null float64\n",
      "home_player_X4     21361 non-null float64\n",
      "home_player_X5     21361 non-null float64\n",
      "home_player_X6     21361 non-null float64\n",
      "home_player_X7     21361 non-null float64\n",
      "home_player_X8     21361 non-null float64\n",
      "home_player_X9     21361 non-null float64\n",
      "home_player_X10    21361 non-null float64\n",
      "home_player_X11    21361 non-null float64\n",
      "away_player_X1     21361 non-null float64\n",
      "away_player_X2     21361 non-null float64\n",
      "away_player_X3     21361 non-null float64\n",
      "away_player_X4     21361 non-null float64\n",
      "away_player_X5     21361 non-null float64\n",
      "away_player_X6     21361 non-null float64\n",
      "away_player_X7     21361 non-null float64\n",
      "away_player_X8     21361 non-null float64\n",
      "away_player_X9     21361 non-null float64\n",
      "away_player_X10    21361 non-null float64\n",
      "away_player_X11    21361 non-null float64\n",
      "home_player_Y1     21361 non-null float64\n",
      "home_player_Y2     21361 non-null float64\n",
      "home_player_Y3     21361 non-null float64\n",
      "home_player_Y4     21361 non-null float64\n",
      "home_player_Y5     21361 non-null float64\n",
      "home_player_Y6     21361 non-null float64\n",
      "home_player_Y7     21361 non-null float64\n",
      "home_player_Y8     21361 non-null float64\n",
      "home_player_Y9     21361 non-null float64\n",
      "home_player_Y10    21361 non-null float64\n",
      "home_player_Y11    21361 non-null float64\n",
      "away_player_Y1     21361 non-null float64\n",
      "away_player_Y2     21361 non-null float64\n",
      "away_player_Y3     21361 non-null float64\n",
      "away_player_Y4     21361 non-null float64\n",
      "away_player_Y5     21361 non-null float64\n",
      "away_player_Y6     21361 non-null float64\n",
      "away_player_Y7     21361 non-null float64\n",
      "away_player_Y8     21361 non-null float64\n",
      "away_player_Y9     21361 non-null float64\n",
      "away_player_Y10    21361 non-null float64\n",
      "away_player_Y11    21361 non-null float64\n",
      "dtypes: float64(44), int64(1)\n",
      "memory usage: 7.5 MB\n"
     ]
    }
   ],
   "source": [
    "# create dedicated dataframe of home & away team formations\n",
    "form_class_df = match_df.copy()\n",
    "form_class_df = form_class_df[form_class_df.columns[5:54]]\n",
    "form_class_df.drop(['home_team_api_id','away_team_api_id','home_team_goal','away_team_goal'],axis=1,inplace=True)\n",
    "form_class_df.info()"
   ]
  },
  {
   "cell_type": "code",
   "execution_count": 14,
   "metadata": {},
   "outputs": [
    {
     "data": {
      "text/plain": [
       "[['away_player_X1', 'away_player_Y1'],\n",
       " ['away_player_X2', 'away_player_Y2'],\n",
       " ['away_player_X3', 'away_player_Y3'],\n",
       " ['away_player_X4', 'away_player_Y4'],\n",
       " ['away_player_X5', 'away_player_Y5'],\n",
       " ['away_player_X6', 'away_player_Y6'],\n",
       " ['away_player_X7', 'away_player_Y7'],\n",
       " ['away_player_X8', 'away_player_Y8'],\n",
       " ['away_player_X9', 'away_player_Y9'],\n",
       " ['away_player_X10', 'away_player_Y10'],\n",
       " ['away_player_X11', 'away_player_Y11']]"
      ]
     },
     "execution_count": 14,
     "metadata": {},
     "output_type": "execute_result"
    }
   ],
   "source": [
    "# create a list of the columns relating to home player positions\n",
    "home_x_cols = form_class_df.filter(regex='home_player_X', axis=1)\n",
    "home_y_cols = form_class_df.filter(regex='home_player_Y', axis=1)\n",
    "home_array = list(map(list, zip(home_x_cols,home_y_cols)))\n",
    "\n",
    "# create a list of the columns relating to away player positions\n",
    "away_x_cols = form_class_df.filter(regex='away_player_X', axis=1)\n",
    "away_y_cols = form_class_df.filter(regex='away_player_Y', axis=1)\n",
    "away_array = list(map(list, zip(away_x_cols,away_y_cols)))\n",
    "away_array"
   ]
  },
  {
   "cell_type": "markdown",
   "metadata": {},
   "source": [
    "Below I quickly illustrate the basis for reducing the player positions to magnitudes.\n",
    "\n",
    "I will be classifying the team formations using a 'Nearest-Neighbors' algorithm which requires variables to be a list of scalar values; therefore I cannot pass coordinate pairs into the classifier. I also do not want to pass a flattened list of all of the player position values (i.e. `home_player_x1, home_player_y1, home_player_x2, home_player_y2` etc.) because it seems that some information would be lost as to the exact arrangement of the players on the field.\n",
    "\n",
    "Instead, I turn each `x, y` coordinate pair into a magnitude: $(x^{2} + y^{2})^{1/2}$, which for the purposes of this exercise will provide enough of a unique value for each player location as to be able to accurately make a match for a formation."
   ]
  },
  {
   "cell_type": "code",
   "execution_count": 15,
   "metadata": {},
   "outputs": [
    {
     "data": {
      "image/png": "[encoded data removed]",
      "text/plain": [
       "<Figure size 432x432 with 1 Axes>"
      ]
     },
     "metadata": {
      "needs_background": "light"
     },
     "output_type": "display_data"
    }
   ],
   "source": [
    "%matplotlib inline\n",
    "vectors = pop_form_df[cols[1:12]].values.flatten().tolist()[:11]\n",
    "X = [i[0] for i in vectors]\n",
    "Y = [i[1] for i in vectors]\n",
    "x, y = [0],[0] # origin point\n",
    "\n",
    "fig, ax = plt.subplots(figsize=(6,6))\n",
    "ax.set_xlim(0, 9)\n",
    "ax.set_ylim(0, 11)\n",
    "ax.quiver(x, y, X, Y, scale=12, width=.004)\n",
    "ax.set_title('Figure 1: Example Player Formation as Vectors')\n",
    "plt.show()"
   ]
  },
  {
   "cell_type": "code",
   "execution_count": 16,
   "metadata": {},
   "outputs": [],
   "source": [
    "# define a function to convert the player positions into an array of coordinate pairs\n",
    "# pairs are then converted into magnitudes and returned as a dataframe\n",
    "# the index is then matched to the main dataframe so they can be relinked later\n",
    "\n",
    "# takes either 'home_array' or 'away_array'\n",
    "def formation_magnitudes(input_array):\n",
    "    # holds player coordinates\n",
    "    player_temp = []\n",
    "    # holds array of coordinates\n",
    "    team_temp = []\n",
    "    \n",
    "    for row in input_array:\n",
    "        # zips together the X and Y coordinates for each player\n",
    "        player_temp = list(map(list, zip(form_class_df[row[0]], form_class_df[row[1]])))\n",
    "        # builds a team array over the iteration\n",
    "        team_temp.append(player_temp)\n",
    "        \n",
    "    formation_array = np.array(list(map(list, zip(*team_temp))))\n",
    "    formation = np.array([[np.linalg.norm(pair) for pair in array] for array in formation_array])\n",
    "    formation_df = pd.DataFrame().append(formation.tolist())\n",
    "    formation_df = formation_df.set_index(form_class_df.index)\n",
    "    return formation_df"
   ]
  },
  {
   "cell_type": "code",
   "execution_count": 17,
   "metadata": {},
   "outputs": [],
   "source": [
    "# build dataframe for the home team for all matches\n",
    "home_player_mags = formation_magnitudes(home_array)\n",
    "# build dataframe for the away team for all matches\n",
    "away_player_mags = formation_magnitudes(away_array)"
   ]
  },
  {
   "cell_type": "markdown",
   "metadata": {},
   "source": [
    "Now I will process and scale the magnitude of the popular formations so that they can be passed as the features in my Nearest-Neighbors algorithm."
   ]
  },
  {
   "cell_type": "code",
   "execution_count": 18,
   "metadata": {},
   "outputs": [
    {
     "data": {
      "text/plain": [
       "[0.0,\n",
       " -0.6614397602336219,\n",
       " -0.5724818079403233,\n",
       " -0.5513194400863036,\n",
       " 1.251185956647497,\n",
       " -0.8216275325657859,\n",
       " -0.18596617646848015,\n",
       " -0.2944913539548302,\n",
       " 0.6127813354423037,\n",
       " -0.109326622626076,\n",
       " 0.16668793609720792]"
      ]
     },
     "execution_count": 18,
     "metadata": {},
     "output_type": "execute_result"
    }
   ],
   "source": [
    "# define scaler\n",
    "scaler = preprocessing.StandardScaler()\n",
    "# scale the magnitudes of player positions in popular formations\n",
    "scaler.fit(pop_form_mags)\n",
    "feature = scaler.transform(pop_form_mags)\n",
    "# verify output is centered around 0\n",
    "feature.tolist()[0]"
   ]
  },
  {
   "cell_type": "markdown",
   "metadata": {},
   "source": [
    "I create scalar labels for each of the formation arrays:"
   ]
  },
  {
   "cell_type": "code",
   "execution_count": 19,
   "metadata": {},
   "outputs": [
    {
     "data": {
      "text/plain": [
       "array([5, 4, 1, 3, 0, 6, 7, 2], dtype=int64)"
      ]
     },
     "execution_count": 19,
     "metadata": {},
     "output_type": "execute_result"
    }
   ],
   "source": [
    "le = preprocessing.LabelEncoder()\n",
    "label = le.fit_transform(pop_form_df['form_name'])\n",
    "label"
   ]
  },
  {
   "cell_type": "markdown",
   "metadata": {},
   "source": [
    "Finally, I pass the `home_player_mags` and `away_player_mags` arrays into the classifier to receive a closest approximation label for how we should classify the formation:"
   ]
  },
  {
   "cell_type": "code",
   "execution_count": 20,
   "metadata": {},
   "outputs": [
    {
     "name": "stdout",
     "output_type": "stream",
     "text": [
      "[5 5 5 ... 1 5 5]\n",
      "[5 5 5 ... 4 5 5]\n"
     ]
    }
   ],
   "source": [
    "X = feature.tolist()\n",
    "model = KNeighborsClassifier(n_neighbors=1)\n",
    "model.fit(X,label)\n",
    "home_sample = scaler.transform(home_player_mags)\n",
    "home_predicted = model.predict(home_sample)\n",
    "print(home_predicted)\n",
    "away_sample = scaler.transform(away_player_mags)\n",
    "away_predicted = model.predict(away_sample)\n",
    "print(away_predicted)"
   ]
  },
  {
   "cell_type": "code",
   "execution_count": 21,
   "metadata": {},
   "outputs": [
    {
     "data": {
      "text/html": [
       "<div>\n",
       "<style scoped>\n",
       "    .dataframe tbody tr th:only-of-type {\n",
       "        vertical-align: middle;\n",
       "    }\n",
       "\n",
       "    .dataframe tbody tr th {\n",
       "        vertical-align: top;\n",
       "    }\n",
       "\n",
       "    .dataframe thead th {\n",
       "        text-align: right;\n",
       "    }\n",
       "</style>\n",
       "<table border=\"1\" class=\"dataframe\">\n",
       "  <thead>\n",
       "    <tr style=\"text-align: right;\">\n",
       "      <th></th>\n",
       "      <th>home_formation_id</th>\n",
       "      <th>away_formation_id</th>\n",
       "    </tr>\n",
       "  </thead>\n",
       "  <tbody>\n",
       "    <tr>\n",
       "      <th>count</th>\n",
       "      <td>21361.000000</td>\n",
       "      <td>21361.000000</td>\n",
       "    </tr>\n",
       "    <tr>\n",
       "      <th>mean</th>\n",
       "      <td>4.602874</td>\n",
       "      <td>4.610131</td>\n",
       "    </tr>\n",
       "    <tr>\n",
       "      <th>std</th>\n",
       "      <td>1.061370</td>\n",
       "      <td>1.086415</td>\n",
       "    </tr>\n",
       "    <tr>\n",
       "      <th>min</th>\n",
       "      <td>0.000000</td>\n",
       "      <td>0.000000</td>\n",
       "    </tr>\n",
       "    <tr>\n",
       "      <th>25%</th>\n",
       "      <td>4.000000</td>\n",
       "      <td>4.000000</td>\n",
       "    </tr>\n",
       "    <tr>\n",
       "      <th>50%</th>\n",
       "      <td>5.000000</td>\n",
       "      <td>5.000000</td>\n",
       "    </tr>\n",
       "    <tr>\n",
       "      <th>75%</th>\n",
       "      <td>5.000000</td>\n",
       "      <td>5.000000</td>\n",
       "    </tr>\n",
       "    <tr>\n",
       "      <th>max</th>\n",
       "      <td>7.000000</td>\n",
       "      <td>7.000000</td>\n",
       "    </tr>\n",
       "  </tbody>\n",
       "</table>\n",
       "</div>"
      ],
      "text/plain": [
       "       home_formation_id  away_formation_id\n",
       "count       21361.000000       21361.000000\n",
       "mean            4.602874           4.610131\n",
       "std             1.061370           1.086415\n",
       "min             0.000000           0.000000\n",
       "25%             4.000000           4.000000\n",
       "50%             5.000000           5.000000\n",
       "75%             5.000000           5.000000\n",
       "max             7.000000           7.000000"
      ]
     },
     "execution_count": 21,
     "metadata": {},
     "output_type": "execute_result"
    }
   ],
   "source": [
    "form_class_df['home_formation_id'] = np.array(home_predicted)\n",
    "form_class_df['away_formation_id'] = np.array(away_predicted)\n",
    "form_class_df[['home_formation_id','away_formation_id']].describe()"
   ]
  },
  {
   "cell_type": "markdown",
   "metadata": {},
   "source": [
    "At a glance we can see that we have a range of formation types for all of the matches, and there is certainly a quantifiable difference between team formations at home and away."
   ]
  },
  {
   "cell_type": "code",
   "execution_count": 22,
   "metadata": {},
   "outputs": [
    {
     "data": {
      "text/html": [
       "<div>\n",
       "<style scoped>\n",
       "    .dataframe tbody tr th:only-of-type {\n",
       "        vertical-align: middle;\n",
       "    }\n",
       "\n",
       "    .dataframe tbody tr th {\n",
       "        vertical-align: top;\n",
       "    }\n",
       "\n",
       "    .dataframe thead th {\n",
       "        text-align: right;\n",
       "    }\n",
       "</style>\n",
       "<table border=\"1\" class=\"dataframe\">\n",
       "  <thead>\n",
       "    <tr style=\"text-align: right;\">\n",
       "      <th></th>\n",
       "      <th>match_api_id</th>\n",
       "      <th>home_formation_id</th>\n",
       "      <th>away_formation_id</th>\n",
       "    </tr>\n",
       "    <tr>\n",
       "      <th>id</th>\n",
       "      <th></th>\n",
       "      <th></th>\n",
       "      <th></th>\n",
       "    </tr>\n",
       "  </thead>\n",
       "  <tbody>\n",
       "    <tr>\n",
       "      <th>146</th>\n",
       "      <td>493017</td>\n",
       "      <td>5</td>\n",
       "      <td>5</td>\n",
       "    </tr>\n",
       "    <tr>\n",
       "      <th>154</th>\n",
       "      <td>493025</td>\n",
       "      <td>5</td>\n",
       "      <td>5</td>\n",
       "    </tr>\n",
       "    <tr>\n",
       "      <th>156</th>\n",
       "      <td>493027</td>\n",
       "      <td>5</td>\n",
       "      <td>5</td>\n",
       "    </tr>\n",
       "    <tr>\n",
       "      <th>163</th>\n",
       "      <td>493034</td>\n",
       "      <td>5</td>\n",
       "      <td>5</td>\n",
       "    </tr>\n",
       "    <tr>\n",
       "      <th>169</th>\n",
       "      <td>493040</td>\n",
       "      <td>5</td>\n",
       "      <td>5</td>\n",
       "    </tr>\n",
       "  </tbody>\n",
       "</table>\n",
       "</div>"
      ],
      "text/plain": [
       "     match_api_id  home_formation_id  away_formation_id\n",
       "id                                                     \n",
       "146        493017                  5                  5\n",
       "154        493025                  5                  5\n",
       "156        493027                  5                  5\n",
       "163        493034                  5                  5\n",
       "169        493040                  5                  5"
      ]
     },
     "execution_count": 22,
     "metadata": {},
     "output_type": "execute_result"
    }
   ],
   "source": [
    "form_name_dict = dict(zip(label,pop_form_df['form_name']))\n",
    "form_class_df.drop(form_class_df.filter(regex='_player', axis=1),axis=1,inplace=True)\n",
    "form_class_df.head(5)"
   ]
  },
  {
   "cell_type": "code",
   "execution_count": 23,
   "metadata": {},
   "outputs": [
    {
     "name": "stdout",
     "output_type": "stream",
     "text": [
      "4-4-2      12564\n",
      "4-3-3       5156\n",
      "4-5-1       1764\n",
      "3-5-2        983\n",
      "3-4-3        583\n",
      "5-2-2-1      242\n",
      "3-4-2-1       52\n",
      "3-6-1         17\n",
      "Name: home_formation_desc, dtype: int64\n",
      "4-4-2      12165\n",
      "4-3-3       5222\n",
      "4-5-1       1974\n",
      "3-5-2       1033\n",
      "3-4-3        568\n",
      "5-2-2-1      318\n",
      "3-4-2-1       61\n",
      "3-6-1         20\n",
      "Name: away_formation_desc, dtype: int64\n"
     ]
    }
   ],
   "source": [
    "form_class_df[['home_formation_desc','away_formation_desc']] = form_class_df[['home_formation_id','away_formation_id']].replace(form_name_dict,inplace=False)\n",
    "print(form_class_df['home_formation_desc'].value_counts(sort=True))\n",
    "print(form_class_df['away_formation_desc'].value_counts(sort=True))"
   ]
  },
  {
   "cell_type": "markdown",
   "metadata": {},
   "source": [
    "By taking occurrence counts of each formation type, I validated the assertion that the '4-4-2' formation is by far the most popular in modern soccer. Interestingly, all 8 formation types, including some of the stranger ones, did see occasional use throughout the data set."
   ]
  },
  {
   "cell_type": "code",
   "execution_count": 24,
   "metadata": {},
   "outputs": [
    {
     "data": {
      "text/html": [
       "<div>\n",
       "<style scoped>\n",
       "    .dataframe tbody tr th:only-of-type {\n",
       "        vertical-align: middle;\n",
       "    }\n",
       "\n",
       "    .dataframe tbody tr th {\n",
       "        vertical-align: top;\n",
       "    }\n",
       "\n",
       "    .dataframe thead th {\n",
       "        text-align: right;\n",
       "    }\n",
       "</style>\n",
       "<table border=\"1\" class=\"dataframe\">\n",
       "  <thead>\n",
       "    <tr style=\"text-align: right;\">\n",
       "      <th></th>\n",
       "      <th>home_team_goal</th>\n",
       "      <th>away_team_goal</th>\n",
       "      <th>Score_Delt</th>\n",
       "      <th>Outcome</th>\n",
       "    </tr>\n",
       "    <tr>\n",
       "      <th>id</th>\n",
       "      <th></th>\n",
       "      <th></th>\n",
       "      <th></th>\n",
       "      <th></th>\n",
       "    </tr>\n",
       "  </thead>\n",
       "  <tbody>\n",
       "    <tr>\n",
       "      <th>146</th>\n",
       "      <td>2</td>\n",
       "      <td>1</td>\n",
       "      <td>1</td>\n",
       "      <td>home</td>\n",
       "    </tr>\n",
       "    <tr>\n",
       "      <th>154</th>\n",
       "      <td>1</td>\n",
       "      <td>3</td>\n",
       "      <td>-2</td>\n",
       "      <td>away</td>\n",
       "    </tr>\n",
       "    <tr>\n",
       "      <th>156</th>\n",
       "      <td>2</td>\n",
       "      <td>0</td>\n",
       "      <td>2</td>\n",
       "      <td>home</td>\n",
       "    </tr>\n",
       "    <tr>\n",
       "      <th>163</th>\n",
       "      <td>2</td>\n",
       "      <td>1</td>\n",
       "      <td>1</td>\n",
       "      <td>home</td>\n",
       "    </tr>\n",
       "    <tr>\n",
       "      <th>169</th>\n",
       "      <td>0</td>\n",
       "      <td>0</td>\n",
       "      <td>0</td>\n",
       "      <td>tie</td>\n",
       "    </tr>\n",
       "  </tbody>\n",
       "</table>\n",
       "</div>"
      ],
      "text/plain": [
       "     home_team_goal  away_team_goal  Score_Delt Outcome\n",
       "id                                                     \n",
       "146               2               1           1    home\n",
       "154               1               3          -2    away\n",
       "156               2               0           2    home\n",
       "163               2               1           1    home\n",
       "169               0               0           0     tie"
      ]
     },
     "execution_count": 24,
     "metadata": {},
     "output_type": "execute_result"
    }
   ],
   "source": [
    "# Add a column for the difference between home & away goals scored\n",
    "match_df['Score_Delt'] = match_df['home_team_goal']-match_df['away_team_goal']\n",
    "\n",
    "# Add another column specifying if the home or away team won\n",
    "bins = [np.NINF, -0.1, 0.1, np.Inf]\n",
    "match_df['Outcome'] = pd.cut(match_df['Score_Delt'], bins, labels=['away','tie','home'], include_lowest=True)\n",
    "\n",
    "# Verify that the output makes sense\n",
    "match_df[['home_team_goal','away_team_goal','Score_Delt','Outcome']].head(5)"
   ]
  },
  {
   "cell_type": "code",
   "execution_count": 25,
   "metadata": {},
   "outputs": [],
   "source": [
    "form_class_df = form_class_df.join(match_df['Score_Delt'])"
   ]
  },
  {
   "cell_type": "code",
   "execution_count": 26,
   "metadata": {},
   "outputs": [
    {
     "data": {
      "text/plain": [
       "match_api_id        -0.014790\n",
       "home_formation_id   -0.022870\n",
       "away_formation_id    0.030174\n",
       "Score_Delt           1.000000\n",
       "dtype: float64"
      ]
     },
     "execution_count": 26,
     "metadata": {},
     "output_type": "execute_result"
    }
   ],
   "source": [
    "form_class_df.head(5)\n",
    "form_class_df.corrwith(form_class_df['Score_Delt'])"
   ]
  },
  {
   "cell_type": "code",
   "execution_count": 27,
   "metadata": {},
   "outputs": [
    {
     "data": {
      "text/plain": [
       "array([5, 6, 2, 4, 1, 7, 0, 3], dtype=int64)"
      ]
     },
     "execution_count": 27,
     "metadata": {},
     "output_type": "execute_result"
    }
   ],
   "source": [
    "form_class_df['home_formation_id'].unique()"
   ]
  },
  {
   "cell_type": "code",
   "execution_count": 28,
   "metadata": {},
   "outputs": [
    {
     "data": {
      "text/plain": [
       "array([[<matplotlib.axes._subplots.AxesSubplot object at 0x0000025AB407B390>]],\n",
       "      dtype=object)"
      ]
     },
     "execution_count": 28,
     "metadata": {},
     "output_type": "execute_result"
    },
    {
     "data": {
      "image/png": "[encoded data removed]",
      "text/plain": [
       "<Figure size 432x288 with 1 Axes>"
      ]
     },
     "metadata": {
      "needs_background": "light"
     },
     "output_type": "display_data"
    }
   ],
   "source": [
    "form_class_df.hist(column='Score_Delt', bins=form_class_df['Score_Delt'].nunique())"
   ]
  },
  {
   "cell_type": "code",
   "execution_count": 59,
   "metadata": {},
   "outputs": [
    {
     "data": {
      "image/png": "[encoded data removed]",
      "text/plain": [
       "<Figure size 576x1728 with 8 Axes>"
      ]
     },
     "metadata": {
      "needs_background": "light"
     },
     "output_type": "display_data"
    }
   ],
   "source": [
    "fig,ax = plt.subplots(8, 1, sharex='col', figsize=(8, 24))\n",
    "\n",
    "colors = matplotlib.cm.Spectral(np.linspace(0,1,8))\n",
    "\n",
    "axes = ax.flatten()\n",
    "for i, j in zip(form_class_df['home_formation_id'].unique(), axes):\n",
    "    values = form_class_df['Score_Delt'].loc[form_class_df['home_formation_id'] == i]\n",
    "    j.hist(values,bins=values.nunique(),density=True, color='g', alpha=0.6, label='home')\n",
    "    j.axvline(values.mean(), color='g', linestyle='dashed', linewidth=1)\n",
    "    \n",
    "    values = form_class_df['Score_Delt'].loc[form_class_df['away_formation_id'] == i]\n",
    "    j.hist(values,bins=values.nunique(),density=True, color='b', alpha=0.4, label='away')\n",
    "    j.axvline(values.mean(), color='b', linestyle='dashed', linewidth=1)\n",
    "    j.set_title('Formation: %s' % form_name_dict.get(i))\n",
    "    j.legend()"
   ]
  },
  {
   "cell_type": "markdown",
   "metadata": {},
   "source": [
    "### Research Question 2: Which players affect team performance the most?"
   ]
  },
  {
   "cell_type": "markdown",
   "metadata": {},
   "source": [
    "<a id='conclusions'></a>\n",
    "## Conclusions\n",
    "\n",
    "> **Tip**: Finally, summarize your findings and the results that have been performed. Make sure that you are clear with regards to the limitations of your exploration. If you haven't done any statistical tests, do not imply any statistical conclusions. And make sure you avoid implying causation from correlation!\n",
    "\n",
    "> **Tip**: Once you are satisfied with your work here, check over your report to make sure that it is satisfies all the areas of the rubric (found on the project submission page at the end of the lesson). You should also probably remove all of the \"Tips\" like this one so that the presentation is as polished as possible.\n",
    "\n",
    "## Submitting your Project \n",
    "\n",
    "> Before you submit your project, you need to create a .html or .pdf version of this notebook in the workspace here. To do that, run the code cell below. If it worked correctly, you should get a return code of 0, and you should see the generated .html file in the workspace directory (click on the orange Jupyter icon in the upper left).\n",
    "\n",
    "> Alternatively, you can download this report as .html via the **File** > **Download as** submenu, and then manually upload it into the workspace directory by clicking on the orange Jupyter icon in the upper left, then using the Upload button.\n",
    "\n",
    "> Once you've done this, you can submit your project by clicking on the \"Submit Project\" button in the lower right here. This will create and submit a zip file with this .ipynb doc and the .html or .pdf version you created. Congratulations!"
   ]
  },
  {
   "cell_type": "code",
   "execution_count": null,
   "metadata": {},
   "outputs": [],
   "source": [
    "#from subprocess import call\n",
    "#call(['python', '-m', 'nbconvert', 'Investigate_a_Dataset.ipynb'])"
   ]
  }
 ],
 "metadata": {
  "celltoolbar": "Raw Cell Format",
  "kernelspec": {
   "display_name": "Python 3",
   "language": "python",
   "name": "python3"
  },
  "language_info": {
   "codemirror_mode": {
    "name": "ipython",
    "version": 3
   },
   "file_extension": ".py",
   "mimetype": "text/x-python",
   "name": "python",
   "nbconvert_exporter": "python",
   "pygments_lexer": "ipython3",
   "version": "3.7.3"
  }
 },
 "nbformat": 4,
 "nbformat_minor": 2
}
