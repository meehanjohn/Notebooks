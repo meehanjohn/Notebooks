{
 "cells": [
  {
   "cell_type": "markdown",
   "metadata": {},
   "source": [
    "# Practical Statistics"
   ]
  },
  {
   "cell_type": "markdown",
   "metadata": {},
   "source": [
    "## 2. Descriptive Statistics - Part II\n",
    "\n",
    "### Homework 1"
   ]
  },
  {
   "cell_type": "code",
   "execution_count": 1,
   "metadata": {},
   "outputs": [
    {
     "data": {
      "text/plain": [
       "13"
      ]
     },
     "execution_count": 1,
     "metadata": {},
     "output_type": "execute_result"
    }
   ],
   "source": [
    "import numpy as np\n",
    "from scipy import stats\n",
    "hwk_1a = np.array([15, 4, 3, 8, 15, 22, 7, 9, 2, 3, 3, 12, 6])\n",
    "len(hwk_1a)"
   ]
  },
  {
   "cell_type": "code",
   "execution_count": 2,
   "metadata": {},
   "outputs": [
    {
     "data": {
      "text/plain": [
       "7.0"
      ]
     },
     "execution_count": 2,
     "metadata": {},
     "output_type": "execute_result"
    }
   ],
   "source": [
    "np.median(hwk_1a)"
   ]
  },
  {
   "cell_type": "code",
   "execution_count": 3,
   "metadata": {},
   "outputs": [
    {
     "data": {
      "text/plain": [
       "array([ 2.,  3.,  7., 12., 22.])"
      ]
     },
     "execution_count": 3,
     "metadata": {},
     "output_type": "execute_result"
    }
   ],
   "source": [
    "np.quantile(hwk_1a, [0,0.25,0.5,0.75,1])"
   ]
  },
  {
   "cell_type": "code",
   "execution_count": 4,
   "metadata": {},
   "outputs": [
    {
     "data": {
      "text/plain": [
       "8.384615384615385"
      ]
     },
     "execution_count": 4,
     "metadata": {},
     "output_type": "execute_result"
    }
   ],
   "source": [
    "np.mean(hwk_1a)"
   ]
  },
  {
   "cell_type": "code",
   "execution_count": 5,
   "metadata": {},
   "outputs": [
    {
     "data": {
      "text/plain": [
       "ModeResult(mode=array([3]), count=array([3]))"
      ]
     },
     "execution_count": 5,
     "metadata": {},
     "output_type": "execute_result"
    }
   ],
   "source": [
    "stats.mode(hwk_1a)"
   ]
  },
  {
   "cell_type": "code",
   "execution_count": 17,
   "metadata": {},
   "outputs": [
    {
     "data": {
      "text/plain": [
       "9.0"
      ]
     },
     "execution_count": 17,
     "metadata": {},
     "output_type": "execute_result"
    }
   ],
   "source": [
    "hwk_1b = np.array([15, 4, 3, 8, 15, 22, 7, 9, 2, 3, 3, 12, 6])\n",
    "stats.iqr(hwk_1b)"
   ]
  },
  {
   "cell_type": "code",
   "execution_count": 9,
   "metadata": {},
   "outputs": [
    {
     "data": {
      "text/plain": [
       "20"
      ]
     },
     "execution_count": 9,
     "metadata": {},
     "output_type": "execute_result"
    }
   ],
   "source": [
    "np.max(hwk_1b)-np.min(hwk_1b)"
   ]
  },
  {
   "cell_type": "code",
   "execution_count": 10,
   "metadata": {},
   "outputs": [
    {
     "data": {
      "text/plain": [
       "33.92899408284024"
      ]
     },
     "execution_count": 10,
     "metadata": {},
     "output_type": "execute_result"
    }
   ],
   "source": [
    "np.var(hwk_1b)"
   ]
  },
  {
   "cell_type": "code",
   "execution_count": 11,
   "metadata": {},
   "outputs": [
    {
     "data": {
      "text/plain": [
       "5.824860005428477"
      ]
     },
     "execution_count": 11,
     "metadata": {},
     "output_type": "execute_result"
    }
   ],
   "source": [
    "np.std(hwk_1b)"
   ]
  },
  {
   "cell_type": "code",
   "execution_count": 12,
   "metadata": {},
   "outputs": [
    {
     "name": "stdout",
     "output_type": "stream",
     "text": [
      "2 22\n"
     ]
    }
   ],
   "source": [
    "print(np.min(hwk_1b), np.max(hwk_1b))"
   ]
  },
  {
   "cell_type": "markdown",
   "metadata": {},
   "source": [
    "### Recap\n",
    "\n",
    "**Variable Types**\n",
    "- `categorical` or `quantitative`\n",
    "- `continuous` or `discrete`\n",
    "- `ordinal` or `nominal`\n",
    "\n",
    "**Categorical Variables**\n",
    "Ex: Two levels of a dog category\n",
    "```\n",
    "lab: 32/100\n",
    "not lab: 68/100\n",
    "```\n",
    "\n",
    "**Quantitative Variables**\n",
    "Four main aspects to `quantitative` variables:\n",
    "1. Measures of **Center**\n",
    "2. Measures of **Spread**\n",
    "3. **Shape** of the Distribution\n",
    "4. **Outliers**\n",
    "\n",
    "**Measures of Spread**\n",
    "1. **Range**\n",
    "2. **Interquartile Range**\n",
    "3. **Standard Deviation**\n",
    "4. **Variance**\n",
    "\n",
    "**Shape**\n",
    "1. **Right-skewed**\n",
    "2. **Left-skewed**\n",
    "3. **Symmetric**\n",
    "When we have a symmetric (i.e. *normal*) distribution, we can completely understand our dataset using the `mean` and `standard deviation`\n",
    "\n",
    "**Outliers**\n",
    "Handling outliers:\n",
    "1. Note their existence and impact on summary stats\n",
    "2. If typo - remove or fix\n",
    "3. Understand why they exist, and the impact on questions we are trying to answer about our data.\n",
    "4. Reporting the 5-number summary values is often a better indication that measures like the mean and standard deviation when there are outliers.\n",
    "5. Be careful in reporting & know how to ask the right questions\n"
   ]
  },
  {
   "cell_type": "markdown",
   "metadata": {},
   "source": [
    "## Inferential Statistics\n",
    "`Inferential Statistics` is about using our collected data to draw conclusions on a larger population.\n",
    "1. **Population** - our entire group of interest\n",
    "2. **Parameter** - numeric summary about a population\n",
    "3. **Sample** - subset of the population\n",
    "4. **Statistic** - numeric summary about a sample"
   ]
  },
  {
   "cell_type": "markdown",
   "metadata": {},
   "source": [
    "## Basic Probability\n",
    "\n",
    "Using notation, we can say that the outcome of a coin flip could either be **T** or **H** for the event that the coin flips tails or heads, respectively.\n",
    "\n",
    "Then the following rules are true:\n",
    "1. **P(H) = 0.5**\n",
    "2. **1-P(H) = P(not H) = 0.5**\n",
    "3. Across multiple coin flips, we have the probability of seeing n heads as **P(H)^n**. This is because these events are independent.\n",
    "\n",
    "We can get three generic rules from this:\n",
    "1. The probability of any event must be between 0 and 1, inclusive.\n",
    "2. The probability of the complement event is 1 minus the probability of an event. That is, the probability of all other possible events is 1 minus the probability of an event itself. Therefore, the sum of all possible events is equal to 1.\n",
    "3. If our events are independent, then the probability of the string of possible events is the product of those events. That is, the probability of one event **AND** the next **AND** the next event, is the product of those events."
   ]
  }
 ],
 "metadata": {
  "kernelspec": {
   "display_name": "Python 3",
   "language": "python",
   "name": "python3"
  },
  "language_info": {
   "codemirror_mode": {
    "name": "ipython",
    "version": 3
   },
   "file_extension": ".py",
   "mimetype": "text/x-python",
   "name": "python",
   "nbconvert_exporter": "python",
   "pygments_lexer": "ipython3",
   "version": "3.7.3"
  }
 },
 "nbformat": 4,
 "nbformat_minor": 2
}
