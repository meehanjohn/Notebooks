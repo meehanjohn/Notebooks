{
 "cells": [
  {
   "cell_type": "markdown",
   "metadata": {},
   "source": [
    "# Decorators"
   ]
  },
  {
   "cell_type": "markdown",
   "metadata": {},
   "source": [
    "## 3.7.5 Writing Your Own Decorator"
   ]
  },
  {
   "cell_type": "code",
   "execution_count": 12,
   "metadata": {},
   "outputs": [
    {
     "name": "stdout",
     "output_type": "stream",
     "text": [
      "a_function_requiring_decoration\n"
     ]
    }
   ],
   "source": [
    "from functools import wraps\n",
    "\n",
    "def a_new_decorator(a_func):\n",
    "    @wraps(a_func)\n",
    "    def wrapTheFunction():\n",
    "        print(\"I am doing some boring work before executing a_func()\")\n",
    "        a_fun()\n",
    "        print(\"I am doing some boring work after executing a_func()\")\n",
    "    return wrapTheFunction\n",
    "\n",
    "@a_new_decorator\n",
    "def a_function_requiring_decoration():\n",
    "    \"\"\"Hey yo! Decorate me!\"\"\"\n",
    "    print(\"I am the function which needs some decoration to remove my foul smell.\")\n",
    "        \n",
    "print(a_function_requiring_decoration.__name__)"
   ]
  },
  {
   "cell_type": "markdown",
   "metadata": {},
   "source": [
    "### Blueprint:"
   ]
  },
  {
   "cell_type": "code",
   "execution_count": 13,
   "metadata": {},
   "outputs": [
    {
     "name": "stdout",
     "output_type": "stream",
     "text": [
      "Function is running\n"
     ]
    }
   ],
   "source": [
    "from functools import wraps\n",
    "def decorator_name(f):\n",
    "    @wraps(f)\n",
    "    def decorated(*args, **kwargs):\n",
    "        if not can_run:\n",
    "            return \"Function will not run\"\n",
    "        return f(*args,**kwargs)\n",
    "    return decorated\n",
    "\n",
    "@decorator_name\n",
    "def func():\n",
    "    return(\"Function is running\")\n",
    "\n",
    "can_run = True\n",
    "print(func())"
   ]
  },
  {
   "cell_type": "code",
   "execution_count": 14,
   "metadata": {},
   "outputs": [
    {
     "name": "stdout",
     "output_type": "stream",
     "text": [
      "Function will not run\n"
     ]
    }
   ],
   "source": [
    "can_run = False\n",
    "print(func())"
   ]
  },
  {
   "cell_type": "markdown",
   "metadata": {},
   "source": [
    "Note: @wraps takes a function to be decorated and adds the functionality of copying over the function name, docstring, arguments list, etc. This allows access to the pre-decorated function's properties in the decorator."
   ]
  },
  {
   "cell_type": "markdown",
   "metadata": {},
   "source": [
    "Use-cases:\n",
    "\n",
    "Now let's take a look at the areas where decorators really shine and their usage makes something really easy to manage.\n",
    "\n",
    "1. Authorization - \n",
    "    Decorators can help to check whether someone is autorized to use an endpoint in a web application. They are extensively used in Flask and Django. here is an example to employ decorator based authentication:"
   ]
  },
  {
   "cell_type": "code",
   "execution_count": 15,
   "metadata": {},
   "outputs": [],
   "source": [
    "from functools import wraps\n",
    "\n",
    "def requires_auth(f):\n",
    "    @wraps(f)\n",
    "    def decorated(*args,**kwargs):\n",
    "        auth = request.authorization\n",
    "        if not auth or not check_auth(auth.username,auth.password):\n",
    "            authenticate()\n",
    "        return f(*args,**kwargs)\n",
    "    return decorated"
   ]
  },
  {
   "cell_type": "markdown",
   "metadata": {},
   "source": [
    "2. Logging - Logging is another area where decorators shine. Here is an example:"
   ]
  },
  {
   "cell_type": "code",
   "execution_count": 16,
   "metadata": {},
   "outputs": [
    {
     "name": "stdout",
     "output_type": "stream",
     "text": [
      "addition_func was called\n"
     ]
    }
   ],
   "source": [
    "from functools import wraps\n",
    "\n",
    "def logit(func):\n",
    "    @wraps(func)\n",
    "    def with_logging(*args,**kwargs):\n",
    "        print(func.__name__ + \" was called\")\n",
    "        return func(*args, **kwargs)\n",
    "    return with_logging\n",
    "\n",
    "@logit\n",
    "def addition_func(x):\n",
    "    \"\"\"Do some math.\"\"\"\n",
    "    return x+x\n",
    "\n",
    "result = addition_func(4)"
   ]
  },
  {
   "cell_type": "markdown",
   "metadata": {},
   "source": [
    "## 3.7.6 Decorators with Arguments"
   ]
  },
  {
   "cell_type": "markdown",
   "metadata": {},
   "source": [
    "Nesting a Decorator Within a Function\n",
    "\n",
    "Go back to the logging example, and create a wrapper which lets us specify a logfile to output to."
   ]
  },
  {
   "cell_type": "code",
   "execution_count": 17,
   "metadata": {},
   "outputs": [
    {
     "name": "stdout",
     "output_type": "stream",
     "text": [
      "myfunc1 was called\n"
     ]
    }
   ],
   "source": [
    "from functools import wraps\n",
    "\n",
    "def logit(logfile='out.log'):\n",
    "    def logging_decorator(func):\n",
    "        @wraps(func)\n",
    "        def wrapped_function(*args,**kwargs):\n",
    "            log_string = func.__name__ + \" was called\"\n",
    "            print(log_string)\n",
    "            # Open the logfile and append\n",
    "            with open(logfile,'a') as opened_file:\n",
    "                #Now we log to the specified logfile\n",
    "                opened_file.write(log_string + '\\n')\n",
    "        return wrapped_function\n",
    "    return logging_decorator\n",
    "    \n",
    "@logit()\n",
    "def myfunc1():\n",
    "    pass\n",
    "\n",
    "myfunc1()"
   ]
  },
  {
   "cell_type": "code",
   "execution_count": 18,
   "metadata": {},
   "outputs": [
    {
     "name": "stdout",
     "output_type": "stream",
     "text": [
      "myfunc2 was called\n"
     ]
    }
   ],
   "source": [
    "@logit(logfile='func2.log')\n",
    "def myfunc2():\n",
    "    pass\n",
    "\n",
    "myfunc2()"
   ]
  },
  {
   "cell_type": "markdown",
   "metadata": {},
   "source": [
    "Now we have our logit decorator in production, but when some parts of our application are considered critical, failure might be something that needs more immediate attention. Let's say sometimes you just want to log to a file. Other times you want an email sent, but still keep a log for your own records. This is a case for using inheritance, but so far we've only seen functions being used to build decorators.\n",
    "\n",
    "Classes can also be used to build decorators. So, let's rebuild logit as a class instead of a function."
   ]
  },
  {
   "cell_type": "code",
   "execution_count": 19,
   "metadata": {},
   "outputs": [],
   "source": [
    "class logit(object):\n",
    "    \n",
    "    _logfile = 'out.log'\n",
    "    \n",
    "    def __init__(self,func):\n",
    "        self.func = func\n",
    "        \n",
    "    def __call__(self,*args):\n",
    "        log_string = self.func.__name__ + \" was called\"\n",
    "        print(log_string)\n",
    "        # Open the logfile and append\n",
    "        with open(self._logfile, 'a') as opened_file:\n",
    "            # Now we log to the specified logfile\n",
    "            opened_file.write(log_string + '\\n')\n",
    "        # Now, send a notification\n",
    "        self.notify()\n",
    "        \n",
    "        # return base func\n",
    "        return self.func(*args)\n",
    "    \n",
    "    def notify(self):\n",
    "        # logit only logs, no more\n",
    "        pass"
   ]
  },
  {
   "cell_type": "code",
   "execution_count": 20,
   "metadata": {},
   "outputs": [
    {
     "name": "stdout",
     "output_type": "stream",
     "text": [
      "myfunc1 was called\n"
     ]
    }
   ],
   "source": [
    "logit._logfile = 'out2.log'\n",
    "@logit\n",
    "def myfunc1():\n",
    "    pass\n",
    "\n",
    "myfunc1()"
   ]
  },
  {
   "cell_type": "markdown",
   "metadata": {},
   "source": [
    "Now, let's subclass logit to add email functionality"
   ]
  },
  {
   "cell_type": "code",
   "execution_count": 21,
   "metadata": {},
   "outputs": [],
   "source": [
    "class email_logit(logit):\n",
    "    '''\n",
    "    A logit implementation for sending emails to admins\n",
    "    when the function is called.\n",
    "    '''\n",
    "    def __init__(self,email='admin@myproject.com',*args,**kwargs):\n",
    "        self.email = email\n",
    "        super(email_logit,self).__init__(*args,**kwargs)\n",
    "        \n",
    "    def notify(self):\n",
    "        # Send an email to self.email\n",
    "        # Will not be implemented here\n",
    "        pass"
   ]
  },
  {
   "cell_type": "markdown",
   "metadata": {},
   "source": [
    "From here, @email_logit works just like @logit but sends an email to the admin in addition to logging."
   ]
  },
  {
   "cell_type": "markdown",
   "metadata": {},
   "source": [
    "## 3.8 Global & Return"
   ]
  },
  {
   "cell_type": "markdown",
   "metadata": {},
   "source": [
    "Let's examine this little function:"
   ]
  },
  {
   "cell_type": "code",
   "execution_count": 23,
   "metadata": {},
   "outputs": [
    {
     "name": "stdout",
     "output_type": "stream",
     "text": [
      "8\n"
     ]
    }
   ],
   "source": [
    "def add(value1,value2):\n",
    "    return value1 + value2\n",
    "\n",
    "result = add(3,5)\n",
    "print(result)"
   ]
  },
  {
   "cell_type": "markdown",
   "metadata": {},
   "source": [
    "The function above takes two values as input and then outputs their sum. We could also have done:"
   ]
  },
  {
   "cell_type": "code",
   "execution_count": 24,
   "metadata": {},
   "outputs": [
    {
     "name": "stdout",
     "output_type": "stream",
     "text": [
      "8\n"
     ]
    }
   ],
   "source": [
    "def add(value1,value2):\n",
    "    global result\n",
    "    result = value1 + value2\n",
    "    \n",
    "add(3,5)\n",
    "print(result)"
   ]
  },
  {
   "cell_type": "markdown",
   "metadata": {},
   "source": [
    "The first function is assigning the value to the variable which calls the function (result = add(3,5)). In most cases you won't need to use the `global` keyword. \n",
    "\n",
    "The second function is making a global variable `result`. \"Global\" here means that we can access that variable outside the scope of the function as well."
   ]
  },
  {
   "cell_type": "code",
   "execution_count": 25,
   "metadata": {},
   "outputs": [
    {
     "name": "stdout",
     "output_type": "stream",
     "text": [
      "8\n"
     ]
    }
   ],
   "source": [
    "# first without the global variable\n",
    "def add(value1, value2):\n",
    "    result = value1 + value2\n",
    "    \n",
    "add(2,4)\n",
    "print(result)"
   ]
  },
  {
   "cell_type": "code",
   "execution_count": 26,
   "metadata": {
    "scrolled": true
   },
   "outputs": [
    {
     "data": {
      "text/plain": [
       "6"
      ]
     },
     "execution_count": 26,
     "metadata": {},
     "output_type": "execute_result"
    }
   ],
   "source": [
    "def add(value1,value2):\n",
    "    global result\n",
    "    result = value1 + value2\n",
    "    \n",
    "add(2,4)\n",
    "result"
   ]
  },
  {
   "cell_type": "markdown",
   "metadata": {},
   "source": [
    "## 3.8.1 Multiple Return Values"
   ]
  },
  {
   "cell_type": "code",
   "execution_count": 27,
   "metadata": {},
   "outputs": [
    {
     "name": "stdout",
     "output_type": "stream",
     "text": [
      "Danny\n",
      "30\n"
     ]
    }
   ],
   "source": [
    "def profile():\n",
    "    name = \"Danny\"\n",
    "    age = 30\n",
    "    return name, age\n",
    "\n",
    "profile_name, profile_age = profile()\n",
    "print(profile_name)\n",
    "print(profile_age)"
   ]
  },
  {
   "cell_type": "markdown",
   "metadata": {},
   "source": [
    "Keep in mind that even in the above example we are returning a tuple (despite the lack of parenthesis) and not separate multiple values. To take it one step further, use `namedtuple`. Example:"
   ]
  },
  {
   "cell_type": "code",
   "execution_count": 28,
   "metadata": {},
   "outputs": [
    {
     "name": "stdout",
     "output_type": "stream",
     "text": [
      "Person(name='Danny', age=31) <class '__main__.Person'>\n"
     ]
    }
   ],
   "source": [
    "from collections import namedtuple\n",
    "def profile():\n",
    "    Person = namedtuple('Person', 'name age')\n",
    "    return Person(name=\"Danny\", age =31)\n",
    "\n",
    "p = profile()\n",
    "print(p, type(p))"
   ]
  },
  {
   "cell_type": "code",
   "execution_count": 29,
   "metadata": {},
   "outputs": [
    {
     "name": "stdout",
     "output_type": "stream",
     "text": [
      "Danny\n",
      "31\n"
     ]
    }
   ],
   "source": [
    "print(p.name)\n",
    "print(p.age)"
   ]
  },
  {
   "cell_type": "code",
   "execution_count": 30,
   "metadata": {},
   "outputs": [
    {
     "name": "stdout",
     "output_type": "stream",
     "text": [
      "Danny\n",
      "31\n"
     ]
    }
   ],
   "source": [
    "p = profile()\n",
    "print(p[0])\n",
    "print(p[1])"
   ]
  },
  {
   "cell_type": "code",
   "execution_count": 31,
   "metadata": {},
   "outputs": [
    {
     "name": "stdout",
     "output_type": "stream",
     "text": [
      "Danny\n",
      "31\n"
     ]
    }
   ],
   "source": [
    "name, age = profile()\n",
    "print(name)\n",
    "print(age)"
   ]
  },
  {
   "cell_type": "markdown",
   "metadata": {},
   "source": [
    "## 3.9 Mutation"
   ]
  },
  {
   "cell_type": "markdown",
   "metadata": {},
   "source": [
    "Mutable means 'able to be changed' and immutable means 'constant'. Consider this example:"
   ]
  },
  {
   "cell_type": "code",
   "execution_count": 32,
   "metadata": {},
   "outputs": [
    {
     "name": "stdout",
     "output_type": "stream",
     "text": [
      "['hi']\n",
      "['hi', 'bye']\n"
     ]
    }
   ],
   "source": [
    "foo = ['hi']\n",
    "print(foo)\n",
    "\n",
    "bar = foo\n",
    "bar += ['bye']\n",
    "print(foo)"
   ]
  },
  {
   "cell_type": "markdown",
   "metadata": {},
   "source": [
    "Whenever you assign a variable to another variable of mutable datatype, any changes to the data are reflected by both variables. The new variable is just an alias for the old variable. This is only true for mutable datatypes.\n",
    "\n",
    "Another example involving functions and mutable data types:"
   ]
  },
  {
   "cell_type": "code",
   "execution_count": 35,
   "metadata": {},
   "outputs": [
    {
     "data": {
      "text/plain": [
       "[1, 2, 3]"
      ]
     },
     "execution_count": 35,
     "metadata": {},
     "output_type": "execute_result"
    }
   ],
   "source": [
    "def add_to(num, target=[]):\n",
    "    target.append(num)\n",
    "    return target\n",
    "\n",
    "add_to(1)\n",
    "add_to(2)\n",
    "add_to(3)"
   ]
  },
  {
   "cell_type": "markdown",
   "metadata": {},
   "source": [
    "In Python the default arguments are evaluated once the function is defined, not each time the function is called. Never define default arguments of mutable type unless you know what you are doing. Do something like this instead:"
   ]
  },
  {
   "cell_type": "code",
   "execution_count": 36,
   "metadata": {},
   "outputs": [],
   "source": [
    "def add_to(element, target=None):\n",
    "    if target is None:\n",
    "        target = []\n",
    "        target.append(element)\n",
    "        return target"
   ]
  },
  {
   "cell_type": "markdown",
   "metadata": {},
   "source": [
    "Now, whenever you call the function without the `target` argument, a new list is created. For instance:"
   ]
  },
  {
   "cell_type": "code",
   "execution_count": 37,
   "metadata": {},
   "outputs": [
    {
     "data": {
      "text/plain": [
       "[42]"
      ]
     },
     "execution_count": 37,
     "metadata": {},
     "output_type": "execute_result"
    }
   ],
   "source": [
    "add_to(42)"
   ]
  },
  {
   "cell_type": "code",
   "execution_count": 38,
   "metadata": {},
   "outputs": [
    {
     "data": {
      "text/plain": [
       "[42]"
      ]
     },
     "execution_count": 38,
     "metadata": {},
     "output_type": "execute_result"
    }
   ],
   "source": [
    "add_to(42)"
   ]
  },
  {
   "cell_type": "code",
   "execution_count": 39,
   "metadata": {},
   "outputs": [
    {
     "data": {
      "text/plain": [
       "[42]"
      ]
     },
     "execution_count": 39,
     "metadata": {},
     "output_type": "execute_result"
    }
   ],
   "source": [
    "add_to(42)"
   ]
  },
  {
   "cell_type": "markdown",
   "metadata": {},
   "source": [
    "## 3.10 `__slots__` Magic"
   ]
  },
  {
   "cell_type": "markdown",
   "metadata": {},
   "source": [
    "In Python, every class can have instance attributes. By default, Python uses a dict to store an object's instance attributes. This allows setting arbitrary new attributes at runtime.\n",
    "\n",
    "However, for small classes with known attributes, it might be a bottleneck. The dict wastes a lot of memory. Python can't just allocate a static amount of memory at object creation to store all attributes. Therefore, it takes a lot memory if you create a lot of objects (in the >1,000 range). \n",
    "\n",
    "This issue can be circumvented by using `__slots__` to tell Python not to use a dict, and only allocate space for a fixed set of attributes. Here is an example with and without `__slots__`."
   ]
  },
  {
   "cell_type": "markdown",
   "metadata": {},
   "source": [
    "**Without `__slots__`:**"
   ]
  },
  {
   "cell_type": "code",
   "execution_count": null,
   "metadata": {},
   "outputs": [],
   "source": [
    "class MyClass(object):\n",
    "    def __init__(self, name, identifier):\n",
    "        self.name = name\n",
    "        self.identifier = identifier\n",
    "        self.set_up()\n",
    "    # ..."
   ]
  },
  {
   "cell_type": "markdown",
   "metadata": {},
   "source": [
    "**With `__slots__`:**"
   ]
  },
  {
   "cell_type": "code",
   "execution_count": null,
   "metadata": {},
   "outputs": [],
   "source": [
    "class MyClass(object):\n",
    "    __slots__ = ['name', 'identifier']\n",
    "    def __init__(self, name, identifier):\n",
    "        self.name = name\n",
    "        self.identifier = identifier\n",
    "        set.set_up()\n",
    "    # ..."
   ]
  },
  {
   "cell_type": "markdown",
   "metadata": {},
   "source": [
    "The second piece of code will reduce the burden on your RAM.\n",
    "\n",
    "On a sidenote, PyPy performs all of these optimizations by default.\n",
    "\n",
    "Below you can see an example showing exact memory usage with and without `__slots__` done in IPython thanks to https://github.com/ianozsvald/ipython_memory_usage"
   ]
  },
  {
   "cell_type": "code",
   "execution_count": 41,
   "metadata": {},
   "outputs": [
    {
     "name": "stdout",
     "output_type": "stream",
     "text": [
      "In [41] used 0.0312 MiB RAM in 0.10s, peaked 0.00 MiB above current, total RAM usage 32.73 MiB\n"
     ]
    }
   ],
   "source": [
    "import ipython_memory_usage.ipython_memory_usage as imu\n",
    "\n",
    "imu.start_watching_memory()"
   ]
  },
  {
   "cell_type": "code",
   "execution_count": 49,
   "metadata": {},
   "outputs": [
    {
     "name": "stdout",
     "output_type": "stream",
     "text": [
      "Writing slots.py\n",
      "In [49] used 0.0625 MiB RAM in 0.11s, peaked 0.00 MiB above current, total RAM usage 59.23 MiB\n"
     ]
    }
   ],
   "source": [
    "%%writefile slots.py\n",
    "class MyClass(object):\n",
    "    __slots__ = ['name','identifier']\n",
    "    def __init__(self, name, identifier):\n",
    "        self.name = name\n",
    "        self.identifier = identifier\n",
    "        \n",
    "num = 1024*256\n",
    "x = [MyClass(1,1) for i in range(num)]"
   ]
  },
  {
   "cell_type": "code",
   "execution_count": 50,
   "metadata": {},
   "outputs": [
    {
     "name": "stdout",
     "output_type": "stream",
     "text": [
      "In [50] used 1.2422 MiB RAM in 0.31s, peaked 8.34 MiB above current, total RAM usage 60.47 MiB\n"
     ]
    }
   ],
   "source": [
    "from slots import *"
   ]
  },
  {
   "cell_type": "code",
   "execution_count": 51,
   "metadata": {},
   "outputs": [
    {
     "name": "stdout",
     "output_type": "stream",
     "text": [
      "Writing noslots.py\n",
      "In [51] used -1.6797 MiB RAM in 0.11s, peaked 0.00 MiB above current, total RAM usage 58.79 MiB\n"
     ]
    }
   ],
   "source": [
    "%%writefile noslots.py\n",
    "class MyClass(object):\n",
    "    def __init__(self, name, identifier):\n",
    "        self.name = name\n",
    "        self.identifier = identifier\n",
    "        \n",
    "num = 1024*256\n",
    "x = [MyClass(1,1) for i in range(num)]"
   ]
  },
  {
   "cell_type": "code",
   "execution_count": 52,
   "metadata": {},
   "outputs": [
    {
     "name": "stdout",
     "output_type": "stream",
     "text": [
      "In [52] used 45.7969 MiB RAM in 0.37s, peaked 0.00 MiB above current, total RAM usage 104.59 MiB\n"
     ]
    }
   ],
   "source": [
    "from noslots import *"
   ]
  },
  {
   "cell_type": "markdown",
   "metadata": {},
   "source": [
    "## 3.11 Virtual Environment"
   ]
  },
  {
   "cell_type": "markdown",
   "metadata": {},
   "source": [
    "`Virtualenv` is a tool for making isolated Python environments. Imagine an application that needs version 2 of a library, but another application requires version 3. If you install everything to the platform's standard location, it's easy to end up in a situation where a package is unintentionally upgraded.\n",
    "\n",
    "`virtualenv` creates isolated environments for your Python application and allows you to install Python libraries in that isolated environment instead of installing them globally.\n",
    "\n",
    "The most important commands are:\n",
    "- `$ virtualenv myproject`\n",
    "- `$ source myproject/bin/activate`\n",
    "\n",
    "The first one makes an isolated `virtualenv` environment in the myproject folder and the second command activates that isolated environment.\n",
    "\n",
    "While creating the virtualenv you have to make a decision. Do you want this `virtualenv` to use packages from your system `site-packages` or install them in the `virtualenv` `site-packages`? By default, `virtualenv` will not give access to the global `site-packages`.\n",
    "\n",
    "If you want your `virtualenv` to have access to your systems `site-packages`, use the `--system-site-packages` switch when creating your `virtualenv` like this:\n",
    "\n",
    "`$ virtualenv --system-site-packages mycoolproject`\n",
    "\n",
    "You can turn off the `env` by typing:\n",
    "\n",
    "`$ deactivate`\n",
    "\n",
    "Running *python* after deactivating will use your system installation of Python again."
   ]
  },
  {
   "cell_type": "markdown",
   "metadata": {},
   "source": [
    "## 3.12 Collections\n",
    "\n",
    "Python ships with a module that contains a number of container data types called Collections. We will talk about a few of them and discuss their usefulness:\n",
    "- defaultdict\n",
    "- OrderedDict\n",
    "- counter\n",
    "- deque\n",
    "- namedtuple\n",
    "- enum.Enum (outside of the module; Python 3.4+)"
   ]
  },
  {
   "cell_type": "markdown",
   "metadata": {},
   "source": [
    "### 3.12.1 defaultdict\n",
    "\n",
    "Unlike `dict`, with defaultdict you do not need to check whether a key is present or not. Example:"
   ]
  },
  {
   "cell_type": "code",
   "execution_count": 2,
   "metadata": {},
   "outputs": [
    {
     "name": "stdout",
     "output_type": "stream",
     "text": [
      "defaultdict(<class 'list'>, {'Yasoob': ['Yellow', 'Red'], 'Ali': ['Blue', 'Black'], 'Arham': ['Green'], 'Ahmed': ['Silver']})\n"
     ]
    }
   ],
   "source": [
    "from collections import defaultdict\n",
    "\n",
    "colours = (\n",
    "    ('Yasoob', 'Yellow'),\n",
    "    ('Ali', 'Blue'),\n",
    "    ('Arham', 'Green'),\n",
    "    ('Ali', 'Black'),\n",
    "    ('Yasoob', 'Red'),\n",
    "    ('Ahmed', 'Silver'),\n",
    ")\n",
    "\n",
    "favourite_colours = defaultdict(list)\n",
    "\n",
    "for name, colour in colours:\n",
    "    favourite_colours[name].append(colour)\n",
    "    \n",
    "print(favourite_colours)"
   ]
  },
  {
   "cell_type": "markdown",
   "metadata": {},
   "source": [
    "Appending nested lists inside a dictionary is an important use case. If a key is not already present in the dictionary, then you will receive a `KeyError`. `defaultdict` allows us to circumvent this issue in a clever way.\n",
    "\n",
    "**Problem:**"
   ]
  },
  {
   "cell_type": "code",
   "execution_count": 3,
   "metadata": {},
   "outputs": [
    {
     "ename": "KeyError",
     "evalue": "'colours'",
     "output_type": "error",
     "traceback": [
      "\u001b[1;31m---------------------------------------------------------------------------\u001b[0m",
      "\u001b[1;31mKeyError\u001b[0m                                  Traceback (most recent call last)",
      "\u001b[1;32m<ipython-input-3-6221372f06f1>\u001b[0m in \u001b[0;36m<module>\u001b[1;34m()\u001b[0m\n\u001b[0;32m      1\u001b[0m \u001b[0msome_dict\u001b[0m \u001b[1;33m=\u001b[0m \u001b[1;33m{\u001b[0m\u001b[1;33m}\u001b[0m\u001b[1;33m\u001b[0m\u001b[0m\n\u001b[1;32m----> 2\u001b[1;33m \u001b[0msome_dict\u001b[0m\u001b[1;33m[\u001b[0m\u001b[1;34m'colours'\u001b[0m\u001b[1;33m]\u001b[0m\u001b[1;33m[\u001b[0m\u001b[1;34m'favourite'\u001b[0m\u001b[1;33m]\u001b[0m \u001b[1;33m=\u001b[0m \u001b[1;34m\"yellow\"\u001b[0m\u001b[1;33m\u001b[0m\u001b[0m\n\u001b[0m",
      "\u001b[1;31mKeyError\u001b[0m: 'colours'"
     ]
    }
   ],
   "source": [
    "some_dict = {}\n",
    "some_dict['colours']['favourite'] = \"yellow\""
   ]
  },
  {
   "cell_type": "markdown",
   "metadata": {},
   "source": [
    "**Solution:**"
   ]
  },
  {
   "cell_type": "code",
   "execution_count": 4,
   "metadata": {},
   "outputs": [],
   "source": [
    "from collections import defaultdict\n",
    "tree = lambda: defaultdict(tree)\n",
    "some_dict = tree()\n",
    "some_dict['colours']['favourite'] = \"yellow\""
   ]
  },
  {
   "cell_type": "code",
   "execution_count": 5,
   "metadata": {},
   "outputs": [
    {
     "name": "stdout",
     "output_type": "stream",
     "text": [
      "{\"colours\": {\"favourite\": \"yellow\"}}\n"
     ]
    }
   ],
   "source": [
    "import json\n",
    "print(json.dumps(some_dict))"
   ]
  },
  {
   "cell_type": "markdown",
   "metadata": {},
   "source": [
    "### 3.12.2 OrderedDict\n",
    "\n",
    "`OrderedDict` keeps its entries sorted as they are initially inserted. Overwriting a value of an existing key doesn't change the position of that key. However, deleting and reinserting an entry moves the key to the end of the dictionary.\n",
    "\n",
    "**Problem:**"
   ]
  },
  {
   "cell_type": "code",
   "execution_count": 9,
   "metadata": {},
   "outputs": [
    {
     "name": "stdout",
     "output_type": "stream",
     "text": [
      "Red 198\n",
      "Green 170\n",
      "Blue 160\n"
     ]
    }
   ],
   "source": [
    "colours = {\"Red\": 198,\"Green\": 170,\"Blue\": 160}\n",
    "for key, value in colours.items():\n",
    "    print(key,value)"
   ]
  },
  {
   "cell_type": "markdown",
   "metadata": {},
   "source": [
    "**Entries are supposed to be retrieved in an unpredictable order... here they happened to print in order.**\n",
    "\n",
    "**Solution:**"
   ]
  },
  {
   "cell_type": "code",
   "execution_count": 10,
   "metadata": {},
   "outputs": [
    {
     "name": "stdout",
     "output_type": "stream",
     "text": [
      "Red 198\n",
      "Green 170\n",
      "Blue 160\n"
     ]
    }
   ],
   "source": [
    "from collections import OrderedDict\n",
    "\n",
    "colours = OrderedDict([(\"Red\", 198),(\"Green\", 170), (\"Blue\", 160)])\n",
    "for key, value in colours.items():\n",
    "    print(key,value)"
   ]
  },
  {
   "cell_type": "markdown",
   "metadata": {},
   "source": [
    "### 3.12.3 counter\n",
    "\n",
    "Counter allows us to count the occurrences of a particular item. For instance it can be used to count the number of inidividual favourite colours:"
   ]
  },
  {
   "cell_type": "code",
   "execution_count": 11,
   "metadata": {},
   "outputs": [
    {
     "name": "stdout",
     "output_type": "stream",
     "text": [
      "Counter({'Yasoob': 2, 'Ali': 2, 'Arham': 1, 'Ahmed': 1})\n"
     ]
    }
   ],
   "source": [
    "from collections import Counter\n",
    "\n",
    "colours = (\n",
    "    ('Yasoob', 'Yellow'),\n",
    "    ('Ali', 'Blue'),\n",
    "    ('Arham', 'Green'),\n",
    "    ('Ali', 'Black'),\n",
    "    ('Yasoob', 'Red'),\n",
    "    ('Ahmed', 'Silver'),\n",
    ")\n",
    "\n",
    "favs = Counter(name for name, colour in colours)\n",
    "print(favs)"
   ]
  },
  {
   "cell_type": "markdown",
   "metadata": {},
   "source": [
    "We can also count the most common lines in a file. For example:"
   ]
  },
  {
   "cell_type": "code",
   "execution_count": 12,
   "metadata": {},
   "outputs": [
    {
     "ename": "FileNotFoundError",
     "evalue": "[Errno 2] No such file or directory: 'filename'",
     "output_type": "error",
     "traceback": [
      "\u001b[1;31m---------------------------------------------------------------------------\u001b[0m",
      "\u001b[1;31mFileNotFoundError\u001b[0m                         Traceback (most recent call last)",
      "\u001b[1;32m<ipython-input-12-1de2eb5a4c21>\u001b[0m in \u001b[0;36m<module>\u001b[1;34m()\u001b[0m\n\u001b[1;32m----> 1\u001b[1;33m \u001b[1;32mwith\u001b[0m \u001b[0mopen\u001b[0m\u001b[1;33m(\u001b[0m\u001b[1;34m'filename'\u001b[0m\u001b[1;33m,\u001b[0m\u001b[1;34m'rb'\u001b[0m\u001b[1;33m)\u001b[0m \u001b[1;32mas\u001b[0m \u001b[0mf\u001b[0m\u001b[1;33m:\u001b[0m\u001b[1;33m\u001b[0m\u001b[0m\n\u001b[0m\u001b[0;32m      2\u001b[0m     \u001b[0mline_count\u001b[0m \u001b[1;33m=\u001b[0m \u001b[0mCounter\u001b[0m\u001b[1;33m(\u001b[0m\u001b[0mf\u001b[0m\u001b[1;33m)\u001b[0m\u001b[1;33m\u001b[0m\u001b[0m\n\u001b[0;32m      3\u001b[0m \u001b[0mprint\u001b[0m\u001b[1;33m(\u001b[0m\u001b[0mline_count\u001b[0m\u001b[1;33m)\u001b[0m\u001b[1;33m\u001b[0m\u001b[0m\n",
      "\u001b[1;31mFileNotFoundError\u001b[0m: [Errno 2] No such file or directory: 'filename'"
     ]
    }
   ],
   "source": [
    "with open('filename','rb') as f:\n",
    "    line_count = Counter(f)\n",
    "print(line_count)"
   ]
  }
 ],
 "metadata": {
  "kernelspec": {
   "display_name": "Python 3",
   "language": "python",
   "name": "python3"
  },
  "language_info": {
   "codemirror_mode": {
    "name": "ipython",
    "version": 3
   },
   "file_extension": ".py",
   "mimetype": "text/x-python",
   "name": "python",
   "nbconvert_exporter": "python",
   "pygments_lexer": "ipython3",
   "version": "3.7.0"
  }
 },
 "nbformat": 4,
 "nbformat_minor": 2
}
